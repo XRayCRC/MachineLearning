{
  "cells": [
    {
      "cell_type": "markdown",
      "id": "f75eb865",
      "metadata": {
        "id": "f75eb865"
      },
      "source": [
        "## Machine Learning Algorithms 2023\n",
        "## Homework 5: Using CNNs (80 points)\n",
        "\n",
        "\n",
        "\n",
        "\n",
        "Name: Conrad, Christian-Ray\n",
        "\n",
        "Email: conrchri@kean.edu\n",
        "\n",
        "Kean ID: 1126666\n",
        "\n",
        "Course: CPS 4802-01\n",
        "\n",
        "\n",
        "This homework aims to enhace your understanding of the CNN using two image datasets and practice how to create custom dataset in PyTorch.\n",
        "\n",
        "## Run each cell and save the results in Google Colab Notebook before submission. You will not get points without saving your results.\n",
        "\n",
        "## Enable GPU support in Colab to speed up the training process.\n",
        "\n",
        "## Your results may not exactly match my example outputs because of randomness\n",
        "\n",
        "Tasks:\n",
        "\n",
        "[Task 1](#section1) (60 points)\n",
        "\n",
        "[Task 2](#section2) (20 points)\n"
      ]
    },
    {
      "cell_type": "markdown",
      "id": "724a5e59",
      "metadata": {
        "id": "724a5e59"
      },
      "source": [
        "### Task 1: Create a CNN and train it on the MNIST dataset. 60 points <a id = \"section1\"/>\n",
        "\n",
        "We used ANN to classify the MNIST dataset in HW4. This time, we will use CNN to classify the MNIST dataset. Please refer to the HW4 and notebooks of lecture 16 and lecture 17 for details.\n",
        "\n",
        "\n"
      ]
    },
    {
      "cell_type": "markdown",
      "id": "e2e61305",
      "metadata": {
        "id": "e2e61305"
      },
      "source": [
        "### Task 1.1: Load dataset (10 points)\n",
        "   - Load the training set and test set of MNIST dataset using PyTorch. training batch size = 128, test batch size = 1.\n",
        "   - Resize the image to 32 * 32, Hint: transforms.Resize((32, 32))"
      ]
    },
    {
      "cell_type": "code",
      "execution_count": 1,
      "id": "d8acb29e",
      "metadata": {
        "colab": {
          "base_uri": "https://localhost:8080/"
        },
        "id": "d8acb29e",
        "outputId": "7c4c6a2f-d614-4143-e5e0-114489cbd098"
      },
      "outputs": [
        {
          "output_type": "stream",
          "name": "stdout",
          "text": [
            "Downloading http://yann.lecun.com/exdb/mnist/train-images-idx3-ubyte.gz\n",
            "Downloading http://yann.lecun.com/exdb/mnist/train-images-idx3-ubyte.gz to ./data/MNIST/raw/train-images-idx3-ubyte.gz\n"
          ]
        },
        {
          "output_type": "stream",
          "name": "stderr",
          "text": [
            "100%|██████████| 9912422/9912422 [00:00<00:00, 219241861.93it/s]"
          ]
        },
        {
          "output_type": "stream",
          "name": "stdout",
          "text": [
            "Extracting ./data/MNIST/raw/train-images-idx3-ubyte.gz to ./data/MNIST/raw\n"
          ]
        },
        {
          "output_type": "stream",
          "name": "stderr",
          "text": [
            "\n"
          ]
        },
        {
          "output_type": "stream",
          "name": "stdout",
          "text": [
            "\n",
            "Downloading http://yann.lecun.com/exdb/mnist/train-labels-idx1-ubyte.gz\n",
            "Downloading http://yann.lecun.com/exdb/mnist/train-labels-idx1-ubyte.gz to ./data/MNIST/raw/train-labels-idx1-ubyte.gz\n"
          ]
        },
        {
          "output_type": "stream",
          "name": "stderr",
          "text": [
            "100%|██████████| 28881/28881 [00:00<00:00, 53909966.10it/s]\n"
          ]
        },
        {
          "output_type": "stream",
          "name": "stdout",
          "text": [
            "Extracting ./data/MNIST/raw/train-labels-idx1-ubyte.gz to ./data/MNIST/raw\n",
            "\n",
            "Downloading http://yann.lecun.com/exdb/mnist/t10k-images-idx3-ubyte.gz\n",
            "Downloading http://yann.lecun.com/exdb/mnist/t10k-images-idx3-ubyte.gz to ./data/MNIST/raw/t10k-images-idx3-ubyte.gz\n"
          ]
        },
        {
          "output_type": "stream",
          "name": "stderr",
          "text": [
            "100%|██████████| 1648877/1648877 [00:00<00:00, 70633746.59it/s]"
          ]
        },
        {
          "output_type": "stream",
          "name": "stdout",
          "text": [
            "Extracting ./data/MNIST/raw/t10k-images-idx3-ubyte.gz to ./data/MNIST/raw\n"
          ]
        },
        {
          "output_type": "stream",
          "name": "stderr",
          "text": [
            "\n"
          ]
        },
        {
          "output_type": "stream",
          "name": "stdout",
          "text": [
            "\n",
            "Downloading http://yann.lecun.com/exdb/mnist/t10k-labels-idx1-ubyte.gz\n",
            "Downloading http://yann.lecun.com/exdb/mnist/t10k-labels-idx1-ubyte.gz to ./data/MNIST/raw/t10k-labels-idx1-ubyte.gz\n"
          ]
        },
        {
          "output_type": "stream",
          "name": "stderr",
          "text": [
            "100%|██████████| 4542/4542 [00:00<00:00, 18622217.76it/s]\n"
          ]
        },
        {
          "output_type": "stream",
          "name": "stdout",
          "text": [
            "Extracting ./data/MNIST/raw/t10k-labels-idx1-ubyte.gz to ./data/MNIST/raw\n",
            "\n",
            "Number of training images: 60000\n",
            "Number of test images: 10000\n"
          ]
        }
      ],
      "source": [
        "# Task 1.1 Load dataset (10 points)\n",
        "import torch\n",
        "import numpy as np\n",
        "import matplotlib.pyplot as plt #using pyplot to display images\n",
        "import torchvision\n",
        "from torchvision import datasets, transforms\n",
        "from torch.utils.data import DataLoader\n",
        "# MNIST dataset, 60k 28*28 grayscale images of the 10 digits,\n",
        "# along with a test set of 10k images\n",
        "\n",
        "# 1.load data\n",
        "\n",
        "# Don't forget to resize the image to 32*32 or your will get an error\n",
        "###  \"------- add your code here -------\"\n",
        "\n",
        "transform = transforms.Compose([\n",
        "    transforms.Resize((32, 32)),\n",
        "    transforms.ToTensor(),\n",
        "])\n",
        "\n",
        "train_dataset = torchvision.datasets.MNIST(root='./data', train=True, transform=transform, download=True)\n",
        "test_dataset = torchvision.datasets.MNIST(root='./data', train=False, transform=transform, download=True)\n",
        "\n",
        "# Print the number of training and test images\n",
        "print(f\"Number of training images: {len(train_dataset)}\")\n",
        "print(f\"Number of test images: {len(test_dataset)}\")\n",
        "\n",
        "\n",
        "# 2. create the train_loader and test_loader\n",
        "###  \"------- add your code here -------\"\n",
        "\n",
        "train_loader = DataLoader(dataset=train_dataset, batch_size=128, shuffle=True)\n",
        "test_loader = DataLoader(dataset=test_dataset, batch_size=1, shuffle=False)\n"
      ]
    },
    {
      "cell_type": "markdown",
      "id": "5a38a6af",
      "metadata": {
        "id": "5a38a6af"
      },
      "source": [
        "### Task 1.2: Create an Network class (20 points).\n",
        "   - Build Net class: following the below structures (must follow the order):\n",
        "        - Step 1: nn.Conv2d(), Think: what is input channel number, output channel number is 10, kernel size is 3, stride is 1.\n",
        "        - Step 2: nn.BatchNorm2d()\n",
        "        - Step 3: nn.ReLU()\n",
        "        - Step 4: nn.MaxPool2d(), kernel_size=2, stride=2\n",
        "        - Step 5: nn.Conv2d(), Think: what is input channel number, output channel number is 100, kernel size is 2, stride is 1.\n",
        "        - Step 6: nn.BatchNorm2d()\n",
        "        - Step 7: nn.ReLU()\n",
        "        - Step 8: nn.MaxPool2d(), kernel_size=2, stride=2\n",
        "        - Step 9: nn.Linear(), in_features=$7 \\times 7 \\times 100$, out_features=120\n",
        "        - Step 10: nn.ReLU()\n",
        "        - Step 11: nn.Linear(): in_features=120, Think: out_features=?\n",
        "        - Step 12: nn.Dropout(), p=0.5\n",
        "   - Create an object of Net class. n_classes = 10\n",
        "   - Create a SGD optimizer. learning rate = 0.01, momentum=0.001\n",
        "   - Create a cross entropy loss.\n",
        "   \n",
        "   "
      ]
    },
    {
      "cell_type": "code",
      "execution_count": 2,
      "id": "ae2005e6",
      "metadata": {
        "id": "ae2005e6"
      },
      "outputs": [],
      "source": [
        "import torch.nn as nn\n",
        "import torch.optim as optim\n",
        "\n",
        "\n",
        "class Net(nn.Module):\n",
        "    def __init__(self, n_classes):\n",
        "        super(Net, self).__init__()\n",
        "        self.feature_extractor = nn.Sequential(\n",
        "\n",
        "            ###  \"------- add your code here -------\"\n",
        "\n",
        "            # conv1\n",
        "            nn.Conv2d(in_channels=1, out_channels=10, kernel_size=3, stride=1),\n",
        "            # Batch Norm1\n",
        "            nn.BatchNorm2d(10),\n",
        "            # ReLU1\n",
        "            nn.ReLU(),\n",
        "            # MaxPool1\n",
        "            nn.MaxPool2d(kernel_size=2, stride=2),\n",
        "            # conv2\n",
        "            nn.Conv2d(in_channels=10, out_channels=100, kernel_size=2, stride=1),\n",
        "            # Batch Norm2\n",
        "            nn.BatchNorm2d(100),\n",
        "            # ReLU2\n",
        "            nn.ReLU(),\n",
        "            # MaxPool2\n",
        "            nn.MaxPool2d(kernel_size=2, stride=2),\n",
        "        )\n",
        "\n",
        "        self.classifier = nn.Sequential(\n",
        "\n",
        "            ###  \"------- add your code here -------\"\n",
        "\n",
        "            # Linear1\n",
        "            nn.Linear(in_features=7 * 7 * 100, out_features=120),\n",
        "            # ReLU\n",
        "            nn.ReLU(),\n",
        "            # Linear2\n",
        "            nn.Linear(in_features=120, out_features=n_classes),\n",
        "            # Dropout\n",
        "            nn.Dropout(p=0.5),\n",
        "        )\n",
        "\n",
        "\n",
        "    def forward(self, x):\n",
        "        ###  \"------- add your code here -------\"\n",
        "        x = self.feature_extractor(x)\n",
        "        x = x.view(-1, 7 * 7 * 100)  # Flatten the output for fully connected layers\n",
        "        x = self.classifier(x)\n",
        "        return x\n",
        "\n",
        "# Create an object of the network\n",
        "###  \"------- add your code here -------\"\n",
        "\n",
        "net = Net(n_classes=10)\n",
        "\n",
        "# optimizer\n",
        "###  \"------- add your code here -------\"\n",
        "\n",
        "optimizer = optim.SGD(net.parameters(), lr=0.01, momentum=0.001)\n",
        "\n",
        "# loss\n",
        "###  \"------- add your code here -------\"\n",
        "\n",
        "criterion = nn.CrossEntropyLoss()"
      ]
    },
    {
      "cell_type": "markdown",
      "id": "69d80ae2",
      "metadata": {
        "id": "69d80ae2"
      },
      "source": [
        "### Task 1.3: Essay questions and calculation questions (Please use the following cell to answer questions. Your answers should be in comments) (10 points).¶\n",
        "   - The Net class created in task 1.2 has the following structure. Please use this structure to answer question 1 to question 5\n",
        "        - Step 1: nn.Conv2d(), Think: what is input channel number, output channel number is 10, kernel size is 3, stride is 1.\n",
        "        - Step 2: nn.BatchNorm2d()\n",
        "        - Step 3: nn.ReLU()\n",
        "        - Step 4: nn.MaxPool2d(), kernel_size=2, stride=2\n",
        "        - Step 5: nn.Conv2d(), Think: what is input channel number, output channel number is 100, kernel size is 2, stride is 1.\n",
        "        - Step 6: nn.BatchNorm2d()\n",
        "        - Step 7: nn.ReLU()\n",
        "        - Step 8: nn.MaxPool2d(), kernel_size=2, stride=2\n",
        "        - Step 9: nn.Linear(), in_features=$7 \\times 7 \\times 100$, out_features=120\n",
        "        - Step 10: nn.ReLU()\n",
        "        - Step 11: nn.Linear(): in_features=120, Think: out_features=?\n",
        "        - Step 12: nn.Dropout(), p=0.5\n",
        "\n",
        "   - Question1: What is the input channel number of the Step 1: nn.Conv2d() and why\n",
        "   - Question2: If the input image is $32 \\times 32$. What is size of the output convolutional feature after Step 1. Hint: Slides of Lecture 15: page 40.\n",
        "   - Question3: What is size of the output feature after Step 4: nn.MaxPool2d(), kernel_size=2, stride=2\n",
        "   - Question4: Why the input feature number of Step 9 is $7 \\times 7 \\times 100$\n",
        "   - Question5: What is the output_feature number in Step 11 and why\n",
        "  "
      ]
    },
    {
      "cell_type": "code",
      "execution_count": 3,
      "id": "4a6dd82f",
      "metadata": {
        "id": "4a6dd82f"
      },
      "outputs": [],
      "source": [
        "# Question 1: What is the input channel number of the Step 1: nn.Conv2d() and why\n",
        "\n",
        "# Answer:The input channel number of the first nn.Conv2d() layer (Step 1) is 1.\n",
        "# This is because MNIST images are grayscale, so they have only one channel.\n",
        "\n",
        "# Question 2: If the input image is 32*32. What is size of the output convolutional\n",
        "# feature after Step 1.\n",
        "# Hint: Slides of Lecture 13: page 40.\n",
        "\n",
        "# Answer: The formula to calculate the output size after a convolutional layer is given by:\n",
        "# Output size = [(Input size − Kernel size + (2×Padding))/Stride] + 1\n",
        "# For Step 1:\n",
        "# Output size = [(32 − 3 + (2×0))/1] + 1 = 30\n",
        "# So, the size of the output convolutional feature after Step 1 is 30 × 30\n",
        "\n",
        "\n",
        "# Question 3: What is size of the output feature after Step 4: nn.MaxPool2d(), kernel_size=2, stride=2\n",
        "\n",
        "# Answer:The max pooling layer with kernel_size=2 and stride=2 will reduce the\n",
        "# size by a factor of 2. Therefore, after Step 4, the size of the output feature\n",
        "# will be 30/2 × 30/2, resulting in a 15 × 15 feature map.\n",
        "\n",
        "\n",
        "# Question 4: Why the input feature number of Step 9 is 7 * 7 * 100\n",
        "\n",
        "# Answer:The size of the output feature after Step 8 (nn.MaxPool2d()) is 7×7×100.\n",
        "# This is because the previous layer (Step 8) reduces the size to 15×15, and the\n",
        "# subsequent fully connected layer (Step 9: nn.Linear()) expects a flattened input\n",
        "# of 7×7×100.\n",
        "\n",
        "\n",
        "# Question 5: What is the output_feature number in Step 11 and why\n",
        "\n",
        "# Answer:The output feature number in Step 11 (nn.Linear()) is the out_features\n",
        "# parameter, which is 10 (assuming n_classes = 10 This is because the final\n",
        "# output of the neural network represents the class scores for the 10 classes in\n",
        "# the MNIST dataset, so there are 10 output features.\n",
        "\n"
      ]
    },
    {
      "cell_type": "markdown",
      "id": "21bc022b",
      "metadata": {
        "id": "21bc022b"
      },
      "source": [
        "### Task 1.4: Training the network and draw figures (10 points).¶\n",
        "Hint: it may take a very long time, please be patient\n",
        "\n",
        "   - Train 10 epochs, print the average training loss in each epoch. (4 points)\n",
        "   - Hint: remember to use model.train() and model.eval() in the training phase and test phase\n",
        "   - Draw a curve for the average training loss in 10 epochs (3 points).\n",
        "   - Draw a curve for the average test loss in 10 epochs (3 points).\n",
        "   \n",
        "   \n",
        "   "
      ]
    },
    {
      "cell_type": "code",
      "execution_count": 6,
      "id": "64e33d5d",
      "metadata": {
        "scrolled": false,
        "colab": {
          "base_uri": "https://localhost:8080/",
          "height": 796
        },
        "id": "64e33d5d",
        "outputId": "0c52ccd6-1999-4550-f096-0d30c941d5b2"
      },
      "outputs": [
        {
          "output_type": "stream",
          "name": "stdout",
          "text": [
            "Epoch 1/10, Training Loss: 1.1297\n",
            "Epoch 1/10, Test Loss: 0.2384\n",
            "Epoch 2/10, Training Loss: 0.9447\n",
            "Epoch 2/10, Test Loss: 0.1352\n",
            "Epoch 3/10, Training Loss: 0.9235\n",
            "Epoch 3/10, Test Loss: 0.1106\n",
            "Epoch 4/10, Training Loss: 0.9052\n",
            "Epoch 4/10, Test Loss: 0.0907\n",
            "Epoch 5/10, Training Loss: 0.8995\n",
            "Epoch 5/10, Test Loss: 0.0820\n",
            "Epoch 6/10, Training Loss: 0.8848\n",
            "Epoch 6/10, Test Loss: 0.0710\n",
            "Epoch 7/10, Training Loss: 0.8798\n",
            "Epoch 7/10, Test Loss: 0.0635\n",
            "Epoch 8/10, Training Loss: 0.8805\n",
            "Epoch 8/10, Test Loss: 0.0616\n",
            "Epoch 9/10, Training Loss: 0.8772\n",
            "Epoch 9/10, Test Loss: 0.0601\n",
            "Epoch 10/10, Training Loss: 0.8738\n",
            "Epoch 10/10, Test Loss: 0.0552\n"
          ]
        },
        {
          "output_type": "display_data",
          "data": {
            "text/plain": [
              "<Figure size 640x480 with 1 Axes>"
            ],
            "image/png": "[encoded data removed]"
          },
          "metadata": {}
        }
      ],
      "source": [
        "# train the CNN and draw curves\n",
        "\n",
        "###  \"------- add your code here -------\"\n",
        "\n",
        "# Function to train the model for one epoch\n",
        "def train_epoch(model, train_loader, criterion, optimizer, device):\n",
        "    model.train()\n",
        "    running_loss = 0.0\n",
        "\n",
        "    for inputs, labels in train_loader:\n",
        "        inputs, labels = inputs.to(device), labels.to(device)\n",
        "\n",
        "        optimizer.zero_grad()\n",
        "\n",
        "        outputs = model(inputs)\n",
        "        loss = criterion(outputs, labels)\n",
        "        loss.backward()\n",
        "        optimizer.step()\n",
        "\n",
        "        running_loss += loss.item()\n",
        "\n",
        "    average_loss = running_loss / len(train_loader)\n",
        "    return average_loss\n",
        "\n",
        "# Function to evaluate the model on the test set\n",
        "def evaluate_model(model, test_loader, criterion, device):\n",
        "    model.eval()\n",
        "    running_loss = 0.0\n",
        "\n",
        "    with torch.no_grad():\n",
        "        for inputs, labels in test_loader:\n",
        "            inputs, labels = inputs.to(device), labels.to(device)\n",
        "\n",
        "            outputs = model(inputs)\n",
        "            loss = criterion(outputs, labels)\n",
        "\n",
        "            running_loss += loss.item()\n",
        "\n",
        "    average_loss = running_loss / len(test_loader)\n",
        "    return average_loss\n",
        "\n",
        "# Function to plot the training and test loss curves\n",
        "def plot_losses(train_losses, test_losses):\n",
        "    plt.plot(range(1, len(train_losses) + 1), train_losses, label='Training Loss')\n",
        "    plt.plot(range(1, len(test_losses) + 1), test_losses, label='Test Loss')\n",
        "    plt.xlabel('Epoch')\n",
        "    plt.ylabel('Loss')\n",
        "    plt.legend()\n",
        "    plt.show()\n",
        "\n",
        "# Move the model to the GPU\n",
        "net.to(device)\n",
        "\n",
        "# Training parameters\n",
        "epochs = 10\n",
        "train_losses = []\n",
        "test_losses = []\n",
        "\n",
        "for epoch in range(epochs):\n",
        "    # Training\n",
        "    train_loss = train_epoch(net, train_loader, criterion, optimizer, device)\n",
        "    print(f\"Epoch {epoch + 1}/{epochs}, Training Loss: {train_loss:.4f}\")\n",
        "    train_losses.append(train_loss)\n",
        "\n",
        "    # Evaluation on the test set\n",
        "    test_loss = evaluate_model(net, test_loader, criterion, device)\n",
        "    print(f\"Epoch {epoch + 1}/{epochs}, Test Loss: {test_loss:.4f}\")\n",
        "    test_losses.append(test_loss)\n",
        "\n",
        "# Plotting the loss curves\n",
        "plot_losses(train_losses, test_losses)\n",
        "\n",
        "\n"
      ]
    },
    {
      "cell_type": "markdown",
      "id": "de806068",
      "metadata": {
        "id": "de806068"
      },
      "source": [
        "### Task 1.5: Calculate the accuacy on test dataset (10 points).¶"
      ]
    },
    {
      "cell_type": "code",
      "execution_count": 7,
      "id": "67f346cf",
      "metadata": {
        "colab": {
          "base_uri": "https://localhost:8080/"
        },
        "id": "67f346cf",
        "outputId": "4577ea5a-580f-4da3-cea9-babc9b7a48b8"
      },
      "outputs": [
        {
          "output_type": "stream",
          "name": "stdout",
          "text": [
            "Test Accuracy: 0.9865\n"
          ]
        }
      ],
      "source": [
        "# get the accuracy\n",
        "\n",
        "###  \"------- add your code here -------\"\n",
        "\n",
        "def calculate_accuracy(model, data_loader, device):\n",
        "    model.eval()\n",
        "    correct_predictions = 0\n",
        "    total_samples = 0\n",
        "\n",
        "    with torch.no_grad():\n",
        "        for inputs, labels in data_loader:\n",
        "            inputs, labels = inputs.to(device), labels.to(device)\n",
        "\n",
        "            outputs = model(inputs)\n",
        "\n",
        "            # Calculate accuracy\n",
        "            _, predicted = torch.max(outputs, 1)\n",
        "            correct_predictions += (predicted == labels).sum().item()\n",
        "            total_samples += labels.size(0)\n",
        "\n",
        "    accuracy = correct_predictions / total_samples\n",
        "    return accuracy\n",
        "\n",
        "test_loader = torch.utils.data.DataLoader(test_dataset, batch_size=1, shuffle=False)\n",
        "\n",
        "# Calculate accuracy on the test set\n",
        "test_accuracy = calculate_accuracy(net, test_loader, device)\n",
        "print(f\"Test Accuracy: {test_accuracy:.4f}\")\n"
      ]
    },
    {
      "cell_type": "markdown",
      "id": "120baa38",
      "metadata": {
        "id": "120baa38"
      },
      "source": [
        "### Task 2: Breast Ultrasound Image Classification Using CNNs.  20 points <a id = \"section2\"/>\n",
        "\n",
        "In this task, we will let you decide on a CNN to do classification on a Breast Ultrasound Image dataset. The images are stored in BUS folder.\n",
        "\n",
        "Please download the BUS.zip from Canvas to your computer and upload to the same folder as this .ipynb file.\n",
        "\n",
        "I don't have a requirement on the structure of the CNN used to do the classification. You may design your own CNN, or use existing CNN, such as VGG16, or ResNet50.\n",
        "\n",
        "## Requirement on the Test Accuracy: Get a Test Accuracy > 75% to get full marks on this question.\n",
        "\n",
        "1. Dataset\n",
        "\n",
        "    :Number of images: 163\n",
        "    \n",
        "  \n",
        "    :Class labels\n",
        "        : Malignant (0): 54 images\n",
        "        : Benign (1): 109 images\n",
        "        \n",
        "2. Motivation: (1) Help you understand how to load custom image dataset into PyTorch. (2) Real world CNN application. (3) This is one of my research field, and I want to introduce my research to the whole class.\n",
        "        \n",
        "    "
      ]
    },
    {
      "cell_type": "markdown",
      "source": [
        "## Hint: you need to modify this code to load the Dataset properly\n"
      ],
      "metadata": {
        "id": "NaTLbbm7Kb_J"
      },
      "id": "NaTLbbm7Kb_J"
    },
    {
      "cell_type": "code",
      "source": [
        "# mount drive and access files on google drive.\n",
        "\n",
        "# Hint: you need to modify this code to load the Dataset properly\n",
        "from google.colab import drive\n",
        "import os\n",
        "drive.mount('/content/drive/', force_remount=True)\n",
        "os.chdir('/content/drive/MyDrive/MLA_HW_5/BUS')"
      ],
      "metadata": {
        "colab": {
          "base_uri": "https://localhost:8080/"
        },
        "id": "CXPNYaTKJ_Wh",
        "outputId": "cba58ee1-fcb9-4f14-db48-6c1f198c3dfd"
      },
      "id": "CXPNYaTKJ_Wh",
      "execution_count": 10,
      "outputs": [
        {
          "output_type": "stream",
          "name": "stdout",
          "text": [
            "Mounted at /content/drive/\n"
          ]
        }
      ]
    },
    {
      "cell_type": "markdown",
      "id": "2e17b9b7",
      "metadata": {
        "id": "2e17b9b7"
      },
      "source": [
        "### Load image dataset into PyTorch by creating customized dataset class\n",
        "   - Load image using PIL.Image module.\n",
        "   - Create customized dataset class.\n",
        "   - Don't change anything in the following cell.\n",
        "   - Please read and understand how to load an image dataset into pytorch. It is useful for the final project.\n",
        "   - After reading the program, please answer 2 questions."
      ]
    },
    {
      "cell_type": "code",
      "execution_count": 11,
      "id": "7ab91780",
      "metadata": {
        "colab": {
          "base_uri": "https://localhost:8080/"
        },
        "id": "7ab91780",
        "outputId": "4ad346e3-e823-4164-b5e8-703b370e0e9d"
      },
      "outputs": [
        {
          "output_type": "stream",
          "name": "stdout",
          "text": [
            "Training samples #:  130\n",
            "Test samples #:  33\n"
          ]
        }
      ],
      "source": [
        "# Read the program in this cell to see how to load a dataset into pytorch\n",
        "# don't change anything in this cell.\n",
        "# load the Breast Ultrasound Image.\n",
        "\n",
        "import torch\n",
        "import numpy as np\n",
        "import torch.utils.data as data\n",
        "from torchvision import datasets, transforms\n",
        "from PIL import Image\n",
        "import os\n",
        "\n",
        "# Load the image name\n",
        "# Think: what is the meaning of the following codes.\n",
        "\n",
        "benign_image = []\n",
        "\n",
        "for i in os.listdir(\"./BUS/benign/\"):\n",
        "    if i.endswith(\".png\"):\n",
        "        benign_image.append(\"./BUS/benign/\" + i)\n",
        "\n",
        "malignant_image = []\n",
        "for i in os.listdir(\"./BUS/malignant/\"):\n",
        "    if i.endswith(\".png\"):\n",
        "        malignant_image.append(\"./BUS/malignant/\" + i)\n",
        "\n",
        "\n",
        "# Think: what is the meaning of the following codes.\n",
        "# select the first 80% images for training and the rest images for testing in both\n",
        "train_benign_image = benign_image[: int(len(benign_image) * 0.8)]\n",
        "test_benign_image = benign_image[int(len(benign_image) * 0.8): ]\n",
        "\n",
        "train_malignant_image = malignant_image[: int(len(malignant_image) * 0.8)]\n",
        "test_malignant_image = malignant_image[int(len(malignant_image) * 0.8): ]\n",
        "\n",
        "# Train set and Test set\n",
        "train_image = train_benign_image + train_malignant_image\n",
        "train_label = [1] * len(train_benign_image) + [0] * len(train_malignant_image)\n",
        "\n",
        "test_image = test_benign_image + test_malignant_image\n",
        "test_label = [1] * len(test_benign_image) + [0] * len(test_malignant_image)\n",
        "\n",
        "\n",
        "# Dataset class\n",
        "\n",
        "class BreastCancer(data.Dataset):\n",
        "    def __init__(self, image_path, label, transform):\n",
        "        self.image_path = image_path\n",
        "        self.label = label\n",
        "        self.transform = transform\n",
        "\n",
        "    def __getitem__(self, index):\n",
        "        f = Image.open(self.image_path[index]).convert(\"RGB\")\n",
        "        f = self.transform(f)\n",
        "        l = torch.from_numpy(np.array(self.label))[index]\n",
        "        return f, l\n",
        "\n",
        "    def __len__(self):\n",
        "        return len(self.image_path)\n",
        "\n",
        "# Transform\n",
        "\n",
        "transform=transforms.Compose([\n",
        "        transforms.Resize((224, 224)),\n",
        "        transforms.ToTensor(),\n",
        "        ])\n",
        "\n",
        "# load training set and test set to Torch dataset\n",
        "train_dataset_b = BreastCancer(train_image, train_label, transform)\n",
        "test_dataset_b = BreastCancer(test_image, test_label, transform)\n",
        "\n",
        "train_loader_b = torch.utils.data.DataLoader(train_dataset_b, batch_size=16, shuffle=True)\n",
        "test_loader_b = torch.utils.data.DataLoader(test_dataset_b, batch_size=1, shuffle=False)\n",
        "\n",
        "# print the number of samples in training set and testing set\n",
        "\n",
        "\n",
        "print('Training samples #: ', len(train_dataset_b))\n",
        "print('Test samples #: ', len(test_dataset_b))\n",
        "\n"
      ]
    },
    {
      "cell_type": "markdown",
      "id": "cd370f46",
      "metadata": {
        "id": "cd370f46"
      },
      "source": [
        "### Task 2.1 (10 Points) Answer the following questions:\n",
        "\n",
        "1. Explain the following code using your own words. This code is in the previous cell.\n",
        "    ```python\n",
        "       benign_image = []\n",
        "       for i in os.listdir(\"./BUS/benign/\"):\n",
        "            if i.endswith(\".png\"):\n",
        "                benign_image.append(\"./BUS/benign/\" + i)\n",
        "    ```\n",
        "\n",
        "2. Explain the following code using your own words. This code is in the previous cell.\n",
        "\n",
        "    ```python\n",
        "      train_benign_image = benign_image[: int(len(benign_image) * 0.8)]\n",
        "      test_benign_image = benign_image[int(len(benign_image) * 0.8): ]\n",
        "\n",
        "    ```\n",
        "\n"
      ]
    },
    {
      "cell_type": "code",
      "execution_count": null,
      "id": "3831ac42",
      "metadata": {
        "id": "3831ac42"
      },
      "outputs": [],
      "source": [
        "# Anwser the questions in Task 2.1 here\n",
        "# Question 1:\n",
        "# Answer: This block of code first creates an array for storing images of benign\n",
        "# tumors. The for loop then loops through the \"benign\" folder in the BUS folder\n",
        "# in Google Drive and adds all .png images from the folder into the benign_image array.\n",
        "\n",
        "\n",
        "\n",
        "# Question 2:\n",
        "# Answer: This block of code splits the benign_image array into two sets; training\n",
        "# and testing. The training set includes all images from index 0 to the specified\n",
        "# index. The testing set includes all images from the specified index to the end\n",
        "# of the array. In this case, the split occurs at 80% of the way through the\n",
        "# folder. Meaning that 80% of the images are in the training set and 20% are in\n",
        "# the testing set.\n"
      ]
    },
    {
      "cell_type": "markdown",
      "id": "57e855fe",
      "metadata": {
        "id": "57e855fe"
      },
      "source": [
        "### Task 2.2 Create network structure (5 points)\n",
        "- Create a model ( remember: num_classes=2)\n",
        "\n",
        "- Create an optimizer.\n",
        "\n",
        "- Create a loss function.\n",
        "\n",
        "You may design your own CNN, or use existing CNN, such as VGG16, or ResNet50. I don't have specific requirements.\n",
        "\n",
        "## Requirement on the Test Accuracy: Get a Test Accuracy > 75% to get full marks on this question."
      ]
    },
    {
      "cell_type": "code",
      "execution_count": 37,
      "id": "eba5ff34",
      "metadata": {
        "colab": {
          "base_uri": "https://localhost:8080/"
        },
        "id": "eba5ff34",
        "outputId": "93b061e9-d6ca-4a80-b5d4-35691dc23332"
      },
      "outputs": [
        {
          "output_type": "stream",
          "name": "stderr",
          "text": [
            "/usr/local/lib/python3.10/dist-packages/torchvision/models/_utils.py:208: UserWarning: The parameter 'pretrained' is deprecated since 0.13 and may be removed in the future, please use 'weights' instead.\n",
            "  warnings.warn(\n",
            "/usr/local/lib/python3.10/dist-packages/torchvision/models/_utils.py:223: UserWarning: Arguments other than a weight enum or `None` for 'weights' are deprecated since 0.13 and may be removed in the future. The current behavior is equivalent to passing `weights=VGG16_Weights.IMAGENET1K_V1`. You can also use `weights=VGG16_Weights.DEFAULT` to get the most up-to-date weights.\n",
            "  warnings.warn(msg)\n"
          ]
        }
      ],
      "source": [
        "import torchvision.models as models\n",
        "from torchsummary import summary\n",
        "\n",
        "# design your network here\n",
        "\n",
        "vg_Network = models.vgg16(pretrained = True)\n",
        "\n",
        "classes_num = 2\n",
        "\n",
        "vg_Network.classifier[6] = torch.nn.Linear(vg_Network.classifier[6].in_features, classes_num)\n",
        "\n",
        "# Create an object of the model\n",
        "###  \"------- add your code here -------\"\n",
        "vg_model = vg_Network.to(\"cuda\")\n",
        "\n",
        "# optimizer\n",
        "###  \"------- add your code here -------\"\n",
        "\n",
        "optimizer = optim.SGD(vg_model.parameters(), lr = 0.001, momentum = 0.9)\n",
        "\n",
        "# loss\n",
        "###  \"------- add your code here -------\"\n",
        "\n",
        "loss_fun = nn.CrossEntropyLoss()"
      ]
    },
    {
      "cell_type": "markdown",
      "id": "d457c4e4",
      "metadata": {
        "id": "d457c4e4"
      },
      "source": [
        "### Task 2.3 Train the network and Report the Test Accuracy (5 points)\n",
        "   - Train your model using train_loader_b; report the test accuracy on test set test_loader_b.\n",
        "   - Training the model may take a very long time; please be patient\n",
        "\n",
        "## Requirement on the Test Accuracy: Get a Test Accuracy > 75% to get full marks on this question.\n",
        "\n",
        "Hint: You may adjust the training epoch number, optimizer, learning rate, using pre-trained models."
      ]
    },
    {
      "cell_type": "code",
      "execution_count": 38,
      "id": "67eaa367",
      "metadata": {
        "colab": {
          "base_uri": "https://localhost:8080/",
          "height": 970
        },
        "id": "67eaa367",
        "outputId": "91f60152-2462-4f40-d7d5-4c5c43884352"
      },
      "outputs": [
        {
          "output_type": "stream",
          "name": "stdout",
          "text": [
            "Epoch 1/15, Loss: 0.6969\n",
            "Epoch [1/15], Test Loss: 0.7496\n",
            "Epoch 2/15, Loss: 0.7785\n",
            "Epoch [2/15], Test Loss: 0.6230\n",
            "Epoch 3/15, Loss: 0.6037\n",
            "Epoch [3/15], Test Loss: 0.5470\n",
            "Epoch 4/15, Loss: 0.5942\n",
            "Epoch [4/15], Test Loss: 0.4549\n",
            "Epoch 5/15, Loss: 0.4474\n",
            "Epoch [5/15], Test Loss: 0.5696\n",
            "Epoch 6/15, Loss: 0.5697\n",
            "Epoch [6/15], Test Loss: 0.3579\n",
            "Epoch 7/15, Loss: 0.3329\n",
            "Epoch [7/15], Test Loss: 0.3757\n",
            "Epoch 8/15, Loss: 0.2447\n",
            "Epoch [8/15], Test Loss: 0.3193\n",
            "Epoch 9/15, Loss: 0.1495\n",
            "Epoch [9/15], Test Loss: 0.2982\n",
            "Epoch 10/15, Loss: 0.0644\n",
            "Epoch [10/15], Test Loss: 0.2945\n",
            "Epoch 11/15, Loss: 0.0334\n",
            "Epoch [11/15], Test Loss: 0.1813\n",
            "Epoch 12/15, Loss: 0.0288\n",
            "Epoch [12/15], Test Loss: 0.1776\n",
            "Epoch 13/15, Loss: 0.0474\n",
            "Epoch [13/15], Test Loss: 0.5105\n",
            "Epoch 14/15, Loss: 0.0222\n",
            "Epoch [14/15], Test Loss: 0.2353\n",
            "Epoch 15/15, Loss: 0.0100\n",
            "Epoch [15/15], Test Loss: 0.3409\n"
          ]
        },
        {
          "output_type": "display_data",
          "data": {
            "text/plain": [
              "<Figure size 640x480 with 1 Axes>"
            ],
            "image/png": "[encoded data removed]"
          },
          "metadata": {}
        }
      ],
      "source": [
        "# train the your model\n",
        "\n",
        "# train the CNN and draw curves\n",
        "\n",
        "###  \"------- add your code here -------\"\n",
        "epochs = 15\n",
        "epoch_train_loss = []\n",
        "epoch_test_loss = []\n",
        "\n",
        "for epoch in range(epochs):\n",
        "    train_loss = []\n",
        "    vg_model.train\n",
        "    for batch_ind, (image, label) in enumerate(train_loader_b):\n",
        "        image = image.to(\"cuda\")\n",
        "        label = label.to(\"cuda\")\n",
        "        optimizer.zero_grad()\n",
        "        outputs = vg_model(image)\n",
        "\n",
        "        loss = loss_fun(outputs, label)\n",
        "        loss.backward()\n",
        "\n",
        "        optimizer.step()\n",
        "        train_loss.append(loss.item())\n",
        "    print(f\"Epoch {epoch + 1}/{epochs}, Loss: {np.mean(train_loss):.4f}\")\n",
        "    epoch_train_loss.append(np.mean(train_loss))\n",
        "\n",
        "    vg_model.eval()\n",
        "    test_loss = []\n",
        "\n",
        "    for batch_ind, (image, label) in enumerate(test_loader_b):\n",
        "      image = image.to(\"cuda\")\n",
        "      label = label.to(\"cuda\")\n",
        "\n",
        "      output = vg_model(image)\n",
        "\n",
        "      loss = loss_fun(output, label)\n",
        "      test_loss.append(loss.item())\n",
        "\n",
        "    print(f\"Epoch [{epoch+1}/{epochs}], Test Loss: {np.mean(test_loss):.4f}\")\n",
        "    epoch_test_loss.append(np.mean(test_loss))\n",
        "\n",
        "plt.plot(epoch_train_loss, label='Training, Loss')\n",
        "plt.plot(epoch_test_loss, label='Test Loss')\n",
        "plt.xlabel('Epoch')\n",
        "plt.ylabel('Loss')\n",
        "plt.legend()\n",
        "plt.show()"
      ]
    },
    {
      "cell_type": "code",
      "execution_count": 39,
      "id": "8a6a8aad",
      "metadata": {
        "colab": {
          "base_uri": "https://localhost:8080/"
        },
        "id": "8a6a8aad",
        "outputId": "465ce108-387e-43f7-aace-8640550d56f3"
      },
      "outputs": [
        {
          "output_type": "stream",
          "name": "stdout",
          "text": [
            "Test Accuracy: 0.8788\n"
          ]
        }
      ],
      "source": [
        "# Report the test accuracy on test_loader_b\n",
        "# ## Requirement on the Test Accuracy: Get a Test Accuracy > 75% to get full marks on this question.\n",
        "###  \"------- add your code here -------\"\n",
        "\n",
        "def calculate_accuracy(model, data_loader, device):\n",
        "    model.eval()\n",
        "    correct_predictions = 0\n",
        "    total_samples = 0\n",
        "\n",
        "    with torch.no_grad():\n",
        "        for inputs, labels in data_loader:\n",
        "            inputs, labels = inputs.to(device), labels.to(device)\n",
        "\n",
        "            outputs = model(inputs)\n",
        "\n",
        "            # Calculate accuracy\n",
        "            _, predicted = torch.max(outputs, 1)\n",
        "            correct_predictions += (predicted == labels).sum().item()\n",
        "            total_samples += labels.size(0)\n",
        "\n",
        "    accuracy = correct_predictions / total_samples\n",
        "    return accuracy\n",
        "\n",
        "test_loader = torch.utils.data.DataLoader(test_dataset, batch_size=1, shuffle=False)\n",
        "\n",
        "# Calculate accuracy on the test set\n",
        "test_accuracy = calculate_accuracy(vg_model, test_loader_b, device)\n",
        "print(f\"Test Accuracy: {test_accuracy:.4f}\")\n"
      ]
    }
  ],
  "metadata": {
    "kernelspec": {
      "display_name": "Python 3",
      "name": "python3"
    },
    "language_info": {
      "codemirror_mode": {
        "name": "ipython",
        "version": 3
      },
      "file_extension": ".py",
      "mimetype": "text/x-python",
      "name": "python",
      "nbconvert_exporter": "python",
      "pygments_lexer": "ipython3",
      "version": "3.9.12"
    },
    "colab": {
      "provenance": [],
      "gpuType": "T4"
    },
    "accelerator": "GPU"
  },
  "nbformat": 4,
  "nbformat_minor": 5
}