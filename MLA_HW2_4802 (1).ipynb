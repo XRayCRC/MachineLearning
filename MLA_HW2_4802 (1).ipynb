{
  "cells": [
    {
      "cell_type": "markdown",
      "id": "f75eb865",
      "metadata": {
        "id": "f75eb865"
      },
      "source": [
        "## Machine Learning Algorithms 2023\n",
        "## Homework 2: K Nearest Neighbors (KNN) algorithm (80 points)\n",
        "\n",
        "\n",
        "Name: Conrad, Christian-Ray\n",
        "\n",
        "Email: conrchri@kean.edu\n",
        "\n",
        "Kean ID: 001126666\n",
        "\n",
        "Course: CPS 4802 - 01\n",
        "\n",
        "\n",
        "This homework aims to enhace your understanding of the KNN algorithm using the wine recognition dataset.\n",
        "### Run each cell and save the results in Google Colab Notebook before submission. You will not get points without saving your results.\n",
        "\n",
        "# Note, because of the randomness, your results might not be exactly the same as the sample outputs!\n",
        "\n",
        "Tasks:\n",
        "\n",
        "[Task 1](#section1) (20 points)\n",
        "\n",
        "[Task 2](#section2) (20 points)\n",
        "\n",
        "[Task 3](#section3) (20 points)\n",
        "\n",
        "[Task 4](#section4) (10 points)\n",
        "\n",
        "[Task 5](#section5) (10 points)\n",
        "\n",
        "[Extra points](#section6) (10 points)"
      ]
    },
    {
      "cell_type": "markdown",
      "id": "1ad84882",
      "metadata": {
        "id": "1ad84882"
      },
      "source": [
        "## Dataset\n",
        "\n",
        "    - Number of data samples: 178\n",
        "    \n",
        "    - Each data sample has 13 numeric features/attributes.\n",
        "    \n",
        "    - Class labels\n",
        "        - class_0: 59\n",
        "        - class_1: 71\n",
        "        - class_2: 48\n",
        "        \n",
        "    https://scikit-learn.org/stable/modules/generated/sklearn.datasets.load_wine.html"
      ]
    },
    {
      "cell_type": "code",
      "execution_count": 1,
      "id": "ce6ec2a4",
      "metadata": {
        "id": "ce6ec2a4"
      },
      "outputs": [],
      "source": [
        "import sklearn.datasets as ds\n",
        "import numpy as np\n",
        "from sklearn.model_selection import train_test_split\n",
        "import joblib"
      ]
    },
    {
      "cell_type": "markdown",
      "id": "120baa38",
      "metadata": {
        "id": "120baa38"
      },
      "source": [
        "### Task 1: Implementation of the KNN algorithm.  20 points <a id = \"section1\"/>\n",
        "We will use KNN to classify the wine recognition dataset. Please use all 13 features in task 1 to task 4 and test dataset size is 20% of the total dataset.\n",
        "\n",
        "There are two parts in this task:\n",
        "  1. Implement the KNN algorithm. Type following the notebook of lecture 7. DO NOT copy and paste. Type it by yourself and understand the KNN algorithm. (10 points)\n",
        "    \n",
        "  2. Use MyKNN() to classify the wine recognition dataset. Use K = 5. Your program should have four parts: a. data preparation, test_size=0.2, b. model training, c. prediction and evaluation on the test data set using confusion matrix, accuracy and error rate, d. using joblib to save the model. (10 points)"
      ]
    },
    {
      "cell_type": "code",
      "execution_count": 6,
      "id": "d61821d4",
      "metadata": {
        "id": "d61821d4"
      },
      "outputs": [],
      "source": [
        "# 1. type MyKNN class here\n",
        "class MyKNN:\n",
        "    def __init__(self, k = 5):\n",
        "        self.K = k\n",
        "\n",
        "    def fit(self, x_train, y_train):\n",
        "        self.x_train = x_train\n",
        "        self.y_train = y_train\n",
        "\n",
        "\n",
        "    def predict(self, X):\n",
        "        n = X.shape[0]\n",
        "        pred = np.zeros(n, dtype = int)\n",
        "\n",
        "        for i in range(n):\n",
        "            nns = self.findKNgbs(X[i, :])\n",
        "            labels = self.y_train[nns]\n",
        "            cnts = np.bincount(labels)\n",
        "            pred[i] = np.argmax(cnts)\n",
        "\n",
        "        return pred\n",
        "\n",
        "    def findKNgbs(self, x):\n",
        "        distance = np.sqrt(np.sum((self.x_train - x) ** 2, axis=1))\n",
        "        index = np.argsort(distance)\n",
        "\n",
        "        return index[:self.K]\n",
        "\n",
        "\n",
        "\n",
        "    def errRate(self, real, pred, precison = 2):\n",
        "        err = 0\n",
        "        n = real.shape[0]\n",
        "        err = np.sum(real != pred)\n",
        "        return round(err/n, precison)"
      ]
    },
    {
      "cell_type": "code",
      "execution_count": 8,
      "id": "a91bb637",
      "metadata": {
        "colab": {
          "base_uri": "https://localhost:8080/"
        },
        "id": "a91bb637",
        "outputId": "0254516b-c1cb-4584-8a20-1ada86474081"
      },
      "outputs": [
        {
          "output_type": "stream",
          "name": "stdout",
          "text": [
            "[[41  1  5]\n",
            " [ 4 38 12]\n",
            " [ 1 13 27]]\n"
          ]
        }
      ],
      "source": [
        "# 2. Use MyKNN() to classify the wine recognition dataset. Use K = 5.\n",
        "# Step 1: data preparation\n",
        "wine = ds.load_wine()\n",
        "X = wine.data # features: 178*13\n",
        "y = wine.target # class labels: 0,1,2\n",
        "\n",
        "# ------------------ Add your code here -------------------\n",
        "# Split the dataset into training and test datasets test_size = 0.2\n",
        "x_train, x_test, y_train, y_test = train_test_split(X, y, test_size = 0.2)\n",
        "\n",
        "# Step 2: model training\n",
        "# ------------------ Add your code here -------------------\n",
        "knn = MyKNN(k=5)\n",
        "knn.fit(x_train, y_train)\n",
        "\n",
        "# Step 3: prediction and evaluation on the test using confusion matrix, accuracy, and error rate\n",
        "# ------------------ Add your code here -------------------\n",
        "from sklearn.metrics import confusion_matrix as confuse\n",
        "train_predict = knn.predict(x_train)\n",
        "test_predict = knn.predict(x_test)\n",
        "\n",
        "mat = confuse(y_train, train_predict)\n",
        "print(mat)"
      ]
    },
    {
      "cell_type": "code",
      "execution_count": 9,
      "id": "38406cde",
      "metadata": {
        "colab": {
          "base_uri": "https://localhost:8080/"
        },
        "id": "38406cde",
        "outputId": "09087cc5-08d0-4c25-b33b-6c0073efac16"
      },
      "outputs": [
        {
          "output_type": "execute_result",
          "data": {
            "text/plain": [
              "['knn.joblib']"
            ]
          },
          "metadata": {},
          "execution_count": 9
        }
      ],
      "source": [
        "# Step 4: save model\n",
        "# ------------------ Add your code here -------------------\n",
        "import joblib\n",
        "joblib.dump(knn, \"knn.joblib\")"
      ]
    },
    {
      "cell_type": "markdown",
      "id": "72066828",
      "metadata": {
        "id": "72066828"
      },
      "source": [
        "### Task 2: Finding the best parameter(K).  20 points <a id = \"section2\"/>\n",
        "  - Split the previous training dataset (X_train, y_train) into new train dataset and validation dataset. test_size = 0.1\n",
        "  - Try different k values: k = 1, 3, 5, 7, 9. Print error rates on the training and testing sets for each K value. (10 points).\n",
        "  - Plot error rates for k = 1, 3, 5, 7, 9 using matplotlib in one figure.(10 points)"
      ]
    },
    {
      "cell_type": "code",
      "source": [
        "# 1. Split the old training dataset into train_new and validation datasets, test_size = 0.1\n",
        "import time\n",
        "\n",
        "X_train_val, X_val, y_train_val, y_val = train_test_split(x_train, y_train, test_size = 0.1)"
      ],
      "metadata": {
        "id": "TPykHa3bt2w_"
      },
      "id": "TPykHa3bt2w_",
      "execution_count": 11,
      "outputs": []
    },
    {
      "cell_type": "code",
      "execution_count": 13,
      "id": "dd0dd8c6",
      "metadata": {
        "colab": {
          "base_uri": "https://localhost:8080/"
        },
        "id": "dd0dd8c6",
        "outputId": "acace69f-00ec-4cda-a5d7-da28a5d89a53"
      },
      "outputs": [
        {
          "output_type": "stream",
          "name": "stdout",
          "text": [
            "1 Error rate on training set:0.0%\n",
            "1 Error rate on val set:53.0%\n",
            "2 Error rate on training set:13.0%\n",
            "2 Error rate on val set:73.0%\n",
            "3 Error rate on training set:14.000000000000002%\n",
            "3 Error rate on val set:60.0%\n",
            "4 Error rate on training set:19.0%\n",
            "4 Error rate on val set:67.0%\n",
            "5 Error rate on training set:24.0%\n",
            "5 Error rate on val set:60.0%\n",
            "6 Error rate on training set:20.0%\n",
            "6 Error rate on val set:80.0%\n",
            "7 Error rate on training set:21.0%\n",
            "7 Error rate on val set:73.0%\n",
            "8 Error rate on training set:20.0%\n",
            "8 Error rate on val set:80.0%\n",
            "9 Error rate on training set:23.0%\n",
            "9 Error rate on val set:67.0%\n"
          ]
        }
      ],
      "source": [
        "# 2. parameter selection\n",
        "# ------------------ Add your code here -------------------\n",
        "errorRt = []\n",
        "for k in range(1, 10):\n",
        "    knn2 = MyKNN(k)\n",
        "    knn2.fit(X_train_val, y_train_val)\n",
        "    train_pred = knn2.predict(X_train_val)\n",
        "    print(k, 'Error rate on training set:{}%'.format(100*knn2.errRate(y_train_val, train_pred)))\n",
        "    errorRt.append(100*knn2.errRate(y_train_val, train_pred))\n",
        "\n",
        "    val_pred = knn2.predict(X_val)\n",
        "    print(k, 'Error rate on val set:{}%'.format(100*knn2.errRate(y_val, val_pred)))\n",
        "    errorRt.append(100*knn2.errRate(y_val, val_pred))"
      ]
    },
    {
      "cell_type": "code",
      "execution_count": 14,
      "id": "769162d2",
      "metadata": {
        "colab": {
          "base_uri": "https://localhost:8080/",
          "height": 447
        },
        "id": "769162d2",
        "outputId": "d320fe74-87b7-454d-8dbd-b0c1aa0fb32e"
      },
      "outputs": [
        {
          "output_type": "execute_result",
          "data": {
            "text/plain": [
              "<function matplotlib.pyplot.show(close=None, block=None)>"
            ]
          },
          "metadata": {},
          "execution_count": 14
        },
        {
          "output_type": "display_data",
          "data": {
            "text/plain": [
              "<Figure size 640x480 with 1 Axes>"
            ],
            "image/png": "[encoded data removed]"
          },
          "metadata": {}
        }
      ],
      "source": [
        "# 3. Plot the TESTING error rates using different K values in one figure\n",
        "# Hint: Save the testing error rates in a list before ploting\n",
        "# Hint: https://www.w3schools.com/python/matplotlib_pyplot.asp\n",
        "\n",
        "import matplotlib.pyplot as plt\n",
        "# ------------------ Add your code here -------------------\n",
        "plt.plot(errorRt)\n",
        "plt.show"
      ]
    },
    {
      "cell_type": "markdown",
      "id": "c1ca09f1",
      "metadata": {
        "id": "c1ca09f1"
      },
      "source": [
        "### Task 3: Model Evaluation and Selection Essay Questions. 20 points, 5 each <a id = \"section3\"/>\n",
        "  \n",
        "Please answer the following questions in the following cell. Write down your answers using Python commands.\n",
        "- Question 1: What is overfitting and underfitting and how do we know if a model is overfitting or underfitting?\n",
        "\n",
        "- Question 2: Please explain what are the differences between precision rate and recall rate in a 2-class classification task.\n",
        "\n",
        "- Question 3: Please explain what is k-fold cross-validation and why we need it.\n",
        "\n",
        "- Question 4: Imagine you have an email system that attempts to filter out spam emails. You work in a company's IT department and are responsible for deveploing a AI model for filtering spam emails. Which evaluation metric will you select? Precision rate and recall rate?\n",
        "\n",
        "\n"
      ]
    },
    {
      "cell_type": "code",
      "source": [
        "# Answer for Question 1\n",
        "\n",
        "# Underfitting is when a model performs poorly on training data and is unable to\n",
        "# generalize new data. Overfitting is when a model performs exceptionally well\n",
        "# on training data to the point where it fails at fitting new data. We can determine\n",
        "# if a model is underfitting or overfitting using various validation methods.\n",
        "\n",
        "\n",
        "# Answer for Question 2\n",
        "\n",
        "# Precision rate is defined as the number of true positives/predicted positives\n",
        "# (Predicted positives = true positive + false positive)\n",
        "\n",
        "# Recall rate is defined as the number of true positives/real positives\n",
        "# (Real positives = true positives + false negatives)\n",
        "\n",
        "\n",
        "# Answer for Question 3\n",
        "\n",
        "# K-fold CV is when the dataset is split into a K number of folds and is used to\n",
        "# evaluate the model's ability when given new data. k-fold CV is used for helping\n",
        "# to mitigate the risk of overfitting and provides a more reliable assessment of\n",
        "# how well the model is expected to perform on unseen data\n",
        "\n",
        "\n",
        "# Answer for Question 4\n",
        "\n",
        "#"
      ],
      "metadata": {
        "id": "0t_-EDygqAvb"
      },
      "id": "0t_-EDygqAvb",
      "execution_count": null,
      "outputs": []
    },
    {
      "cell_type": "markdown",
      "id": "626aa7a8",
      "metadata": {
        "id": "626aa7a8"
      },
      "source": [
        "### Task 4: Use KNN in sklearn.  10 points <a id = \"section4\"/>\n",
        "Use KNN in sklearn to classify the wine recognition dataset again. Use k = 5. Print the error rate on the old training and testing set in Task 1."
      ]
    },
    {
      "cell_type": "code",
      "execution_count": 21,
      "id": "28528b11",
      "metadata": {
        "colab": {
          "base_uri": "https://localhost:8080/",
          "height": 74
        },
        "id": "28528b11",
        "outputId": "4a90c414-2c6c-481b-b497-463c98979496"
      },
      "outputs": [
        {
          "output_type": "execute_result",
          "data": {
            "text/plain": [
              "KNeighborsClassifier(n_neighbors=3)"
            ],
            "text/html": [
              "<style>#sk-container-id-2 {color: black;background-color: white;}#sk-container-id-2 pre{padding: 0;}#sk-container-id-2 div.sk-toggleable {background-color: white;}#sk-container-id-2 label.sk-toggleable__label {cursor: pointer;display: block;width: 100%;margin-bottom: 0;padding: 0.3em;box-sizing: border-box;text-align: center;}#sk-container-id-2 label.sk-toggleable__label-arrow:before {content: \"▸\";float: left;margin-right: 0.25em;color: #696969;}#sk-container-id-2 label.sk-toggleable__label-arrow:hover:before {color: black;}#sk-container-id-2 div.sk-estimator:hover label.sk-toggleable__label-arrow:before {color: black;}#sk-container-id-2 div.sk-toggleable__content {max-height: 0;max-width: 0;overflow: hidden;text-align: left;background-color: #f0f8ff;}#sk-container-id-2 div.sk-toggleable__content pre {margin: 0.2em;color: black;border-radius: 0.25em;background-color: #f0f8ff;}#sk-container-id-2 input.sk-toggleable__control:checked~div.sk-toggleable__content {max-height: 200px;max-width: 100%;overflow: auto;}#sk-container-id-2 input.sk-toggleable__control:checked~label.sk-toggleable__label-arrow:before {content: \"▾\";}#sk-container-id-2 div.sk-estimator input.sk-toggleable__control:checked~label.sk-toggleable__label {background-color: #d4ebff;}#sk-container-id-2 div.sk-label input.sk-toggleable__control:checked~label.sk-toggleable__label {background-color: #d4ebff;}#sk-container-id-2 input.sk-hidden--visually {border: 0;clip: rect(1px 1px 1px 1px);clip: rect(1px, 1px, 1px, 1px);height: 1px;margin: -1px;overflow: hidden;padding: 0;position: absolute;width: 1px;}#sk-container-id-2 div.sk-estimator {font-family: monospace;background-color: #f0f8ff;border: 1px dotted black;border-radius: 0.25em;box-sizing: border-box;margin-bottom: 0.5em;}#sk-container-id-2 div.sk-estimator:hover {background-color: #d4ebff;}#sk-container-id-2 div.sk-parallel-item::after {content: \"\";width: 100%;border-bottom: 1px solid gray;flex-grow: 1;}#sk-container-id-2 div.sk-label:hover label.sk-toggleable__label {background-color: #d4ebff;}#sk-container-id-2 div.sk-serial::before {content: \"\";position: absolute;border-left: 1px solid gray;box-sizing: border-box;top: 0;bottom: 0;left: 50%;z-index: 0;}#sk-container-id-2 div.sk-serial {display: flex;flex-direction: column;align-items: center;background-color: white;padding-right: 0.2em;padding-left: 0.2em;position: relative;}#sk-container-id-2 div.sk-item {position: relative;z-index: 1;}#sk-container-id-2 div.sk-parallel {display: flex;align-items: stretch;justify-content: center;background-color: white;position: relative;}#sk-container-id-2 div.sk-item::before, #sk-container-id-2 div.sk-parallel-item::before {content: \"\";position: absolute;border-left: 1px solid gray;box-sizing: border-box;top: 0;bottom: 0;left: 50%;z-index: -1;}#sk-container-id-2 div.sk-parallel-item {display: flex;flex-direction: column;z-index: 1;position: relative;background-color: white;}#sk-container-id-2 div.sk-parallel-item:first-child::after {align-self: flex-end;width: 50%;}#sk-container-id-2 div.sk-parallel-item:last-child::after {align-self: flex-start;width: 50%;}#sk-container-id-2 div.sk-parallel-item:only-child::after {width: 0;}#sk-container-id-2 div.sk-dashed-wrapped {border: 1px dashed gray;margin: 0 0.4em 0.5em 0.4em;box-sizing: border-box;padding-bottom: 0.4em;background-color: white;}#sk-container-id-2 div.sk-label label {font-family: monospace;font-weight: bold;display: inline-block;line-height: 1.2em;}#sk-container-id-2 div.sk-label-container {text-align: center;}#sk-container-id-2 div.sk-container {/* jupyter's `normalize.less` sets `[hidden] { display: none; }` but bootstrap.min.css set `[hidden] { display: none !important; }` so we also need the `!important` here to be able to override the default hidden behavior on the sphinx rendered scikit-learn.org. See: https://github.com/scikit-learn/scikit-learn/issues/21755 */display: inline-block !important;position: relative;}#sk-container-id-2 div.sk-text-repr-fallback {display: none;}</style><div id=\"sk-container-id-2\" class=\"sk-top-container\"><div class=\"sk-text-repr-fallback\"><pre>KNeighborsClassifier(n_neighbors=3)</pre><b>In a Jupyter environment, please rerun this cell to show the HTML representation or trust the notebook. <br />On GitHub, the HTML representation is unable to render, please try loading this page with nbviewer.org.</b></div><div class=\"sk-container\" hidden><div class=\"sk-item\"><div class=\"sk-estimator sk-toggleable\"><input class=\"sk-toggleable__control sk-hidden--visually\" id=\"sk-estimator-id-2\" type=\"checkbox\" checked><label for=\"sk-estimator-id-2\" class=\"sk-toggleable__label sk-toggleable__label-arrow\">KNeighborsClassifier</label><div class=\"sk-toggleable__content\"><pre>KNeighborsClassifier(n_neighbors=3)</pre></div></div></div></div></div>"
            ]
          },
          "metadata": {},
          "execution_count": 21
        }
      ],
      "source": [
        "from sklearn.neighbors import KNeighborsClassifier\n",
        "# ------------------ Add your code here -------------------\n",
        "from sklearn.metrics import accuracy_score\n",
        "neigh = KNeighborsClassifier(n_neighbors=3)\n",
        "neigh.fit(x_train, y_train)"
      ]
    },
    {
      "cell_type": "code",
      "execution_count": 22,
      "id": "f2219786",
      "metadata": {
        "colab": {
          "base_uri": "https://localhost:8080/"
        },
        "id": "f2219786",
        "outputId": "da6407dd-5e12-44fb-d49f-56619f5eb01a"
      },
      "outputs": [
        {
          "output_type": "stream",
          "name": "stdout",
          "text": [
            "Error rate on training set: 14.7887323943662%\n",
            "Error rate on test set: 19.444444444444443%\n"
          ]
        }
      ],
      "source": [
        "# Print the error rate on both the training and testing set\n",
        "# ------------------ Add your code here -------------------\n",
        "train_pred = neigh.predict(x_train)\n",
        "print(\"Error rate on training set: {}%\".format(100*(1-accuracy_score(y_train, train_pred))))\n",
        "\n",
        "test_pred = neigh.predict(x_test)\n",
        "print(\"Error rate on test set: {}%\".format(100*(1-accuracy_score(y_test, test_pred))))"
      ]
    },
    {
      "cell_type": "markdown",
      "id": "7e355572",
      "metadata": {
        "id": "7e355572"
      },
      "source": [
        "### Task 5: Investigate the influence of using different numbers of features.  10 points <a id = \"section5\"/>\n",
        "\n",
        "In the above tasks, we used all of the provided 13 feature attributes for KNN. What if we use partial of these attributes? The optimal value of K may be different when we select different attributes. To simplify this task, let's fix K = 5. Please do the following four cases</br>\n",
        "\n",
        "    - Use only the first feature for KNN using K = 5.\n",
        "    - Use the first 5 features for KNN using K = 5.\n",
        "    - Use the first 10 features for KNN using K = 5.\n",
        "    - Use all 13 features for KNN using K = 5.\n",
        "    \n",
        "Plot the testing errors of the above four cases in one figure. Fix the training set and test set for a fair comparison. That means you should split the training and testing set once instead of four times. </br>\n",
        "\n",
        "\n",
        "Hint: To get the first 5 features, do X_train[:, 0:5]"
      ]
    },
    {
      "cell_type": "code",
      "execution_count": 23,
      "id": "4eb7e014",
      "metadata": {
        "colab": {
          "base_uri": "https://localhost:8080/"
        },
        "id": "4eb7e014",
        "outputId": "faa0de31-6a76-4683-c28f-8d66c815d4db"
      },
      "outputs": [
        {
          "output_type": "stream",
          "name": "stdout",
          "text": [
            "1 Error rate on training set:  25.35%\n",
            "1 Error rate on test set:  27.78%\n",
            "5 Error rate on training set:  18.31%\n",
            "5 Error rate on test set:  27.78%\n",
            "10 Error rate on training set:  10.56%\n",
            "10 Error rate on test set:  13.89%\n",
            "13 Error rate on training set:  25.35%\n",
            "13 Error rate on test set:  25.00%\n"
          ]
        }
      ],
      "source": [
        "# ------------------ Add your code here -------------------\n",
        "import matplotlib.pyplot as plt\n",
        "from sklearn.metrics import accuracy_score\n",
        "\n",
        "model = KNeighborsClassifier(n_neighbors = 5)\n",
        "\n",
        "feature_sets = [1, 5, 10, 13]\n",
        "train_err = []\n",
        "test_err = []\n",
        "\n",
        "for num_feat in feature_sets:\n",
        "  x_train_subset = x_train[:, :num_feat]\n",
        "  x_test_subset = x_test[:, :num_feat]\n",
        "\n",
        "  model.fit(x_train_subset, y_train)\n",
        "\n",
        "  y_train_pred = model.predict(x_train_subset)\n",
        "  y_test_pred = model.predict(x_test_subset)\n",
        "\n",
        "  train_acc = accuracy_score(y_train, y_train_pred)\n",
        "  test_acc = accuracy_score(y_test, y_test_pred)\n",
        "\n",
        "  train_err.append(1-train_acc)\n",
        "  test_err.append(1-test_acc)\n",
        "\n",
        "  print(f\"{num_feat} Error rate on training set: {(1-train_acc) * 100: .2f}%\")\n",
        "  print(f\"{num_feat} Error rate on test set: {(1-test_acc) * 100: .2f}%\")"
      ]
    },
    {
      "cell_type": "code",
      "source": [
        "# ------------------ Add your code here -------------------\n",
        "plt.plot(feature_sets, test_err, marker = 'o')\n",
        "plt.show()"
      ],
      "metadata": {
        "colab": {
          "base_uri": "https://localhost:8080/",
          "height": 430
        },
        "id": "nMbJpp6FxVK_",
        "outputId": "cdc63b87-44bc-4d9f-8d03-daff23d6abf4"
      },
      "id": "nMbJpp6FxVK_",
      "execution_count": 24,
      "outputs": [
        {
          "output_type": "display_data",
          "data": {
            "text/plain": [
              "<Figure size 640x480 with 1 Axes>"
            ],
            "image/png": "[encoded data removed]"
          },
          "metadata": {}
        }
      ]
    },
    {
      "cell_type": "markdown",
      "id": "27b431bf",
      "metadata": {
        "id": "27b431bf"
      },
      "source": [
        "### Extra points: Find the best performance case 10 points  <a id = \"section6\"/>\n",
        "\n",
        "Based on the results in task 5, using all 13 features might not get the best results. In this task, we are going to find the best performance situation. You can select any number of features, and you can select any k for KNN. If you can find a case where the error rate on the test set is smaller than 11%, you can get 10 extra points."
      ]
    },
    {
      "cell_type": "code",
      "execution_count": null,
      "id": "4fc12b91",
      "metadata": {
        "colab": {
          "base_uri": "https://localhost:8080/",
          "height": 1000
        },
        "id": "4fc12b91",
        "outputId": "719fd33b-878a-489f-e767-55b2d49b7574"
      },
      "outputs": [
        {
          "output_type": "stream",
          "name": "stdout",
          "text": [
            "1 Error rate on test set:36.111111111111114%\n",
            "1 Error rate on test set:13.888888888888884%\n",
            "1 Error rate on test set:22.22222222222222%\n",
            "1 Error rate on test set:13.888888888888884%\n",
            "1 Error rate on test set:33.333333333333336%\n",
            "1 Error rate on test set:25.0%\n",
            "1 Error rate on test set:25.0%\n",
            "1 Error rate on test set:22.22222222222222%\n",
            "1 Error rate on test set:25.0%\n",
            "1 Error rate on test set:19.444444444444443%\n",
            "1 Error rate on test set:19.444444444444443%\n",
            "1 Error rate on test set:11.111111111111116%\n",
            "1 Error rate on test set:47.22222222222222%\n",
            "1 Error rate on test set:19.444444444444443%\n",
            "1 Error rate on test set:36.111111111111114%\n",
            "1 Error rate on test set:30.555555555555557%\n",
            "1 Error rate on test set:27.77777777777778%\n",
            "1 Error rate on test set:27.77777777777778%\n",
            "1 Error rate on test set:27.77777777777778%\n",
            "1 Error rate on test set:19.444444444444443%\n",
            "1 Error rate on test set:19.444444444444443%\n",
            "1 Error rate on test set:13.888888888888884%\n",
            "1 Error rate on test set:22.22222222222222%\n",
            "1 Error rate on test set:30.555555555555557%\n",
            "1 Error rate on test set:27.77777777777778%\n",
            "1 Error rate on test set:22.22222222222222%\n",
            "1 Error rate on test set:22.22222222222222%\n",
            "1 Error rate on test set:25.0%\n",
            "1 Error rate on test set:22.22222222222222%\n",
            "1 Error rate on test set:22.22222222222222%\n",
            "1 Error rate on test set:19.444444444444443%\n",
            "1 Error rate on test set:22.22222222222222%\n",
            "1 Error rate on test set:22.22222222222222%\n",
            "1 Error rate on test set:22.22222222222222%\n",
            "1 Error rate on test set:25.0%\n",
            "1 Error rate on test set:22.22222222222222%\n",
            "1 Error rate on test set:22.22222222222222%\n",
            "1 Error rate on test set:19.444444444444443%\n",
            "1 Error rate on test set:22.22222222222222%\n",
            "1 Error rate on test set:25.0%\n",
            "1 Error rate on test set:13.888888888888884%\n",
            "1 Error rate on test set:13.888888888888884%\n",
            "1 Error rate on test set:13.888888888888884%\n",
            "1 Error rate on test set:22.22222222222222%\n",
            "1 Error rate on test set:16.666666666666664%\n",
            "1 Error rate on test set:16.666666666666664%\n",
            "1 Error rate on test set:25.0%\n",
            "1 Error rate on test set:25.0%\n",
            "2 Error rate on test set:33.333333333333336%\n",
            "2 Error rate on test set:13.888888888888884%\n",
            "2 Error rate on test set:16.666666666666664%\n",
            "2 Error rate on test set:13.888888888888884%\n",
            "2 Error rate on test set:16.666666666666664%\n",
            "2 Error rate on test set:16.666666666666664%\n",
            "2 Error rate on test set:16.666666666666664%\n",
            "2 Error rate on test set:16.666666666666664%\n",
            "2 Error rate on test set:16.666666666666664%\n",
            "2 Error rate on test set:13.888888888888884%\n",
            "2 Error rate on test set:13.888888888888884%\n",
            "2 Error rate on test set:13.888888888888884%\n",
            "2 Error rate on test set:44.44444444444444%\n",
            "2 Error rate on test set:30.555555555555557%\n",
            "2 Error rate on test set:22.22222222222222%\n",
            "2 Error rate on test set:22.22222222222222%\n",
            "2 Error rate on test set:16.666666666666664%\n",
            "2 Error rate on test set:16.666666666666664%\n",
            "2 Error rate on test set:16.666666666666664%\n",
            "2 Error rate on test set:16.666666666666664%\n",
            "2 Error rate on test set:16.666666666666664%\n",
            "2 Error rate on test set:16.666666666666664%\n",
            "2 Error rate on test set:25.0%\n",
            "2 Error rate on test set:22.22222222222222%\n",
            "2 Error rate on test set:22.22222222222222%\n",
            "2 Error rate on test set:19.444444444444443%\n",
            "2 Error rate on test set:19.444444444444443%\n",
            "2 Error rate on test set:19.444444444444443%\n",
            "2 Error rate on test set:16.666666666666664%\n",
            "2 Error rate on test set:16.666666666666664%\n",
            "2 Error rate on test set:16.666666666666664%\n",
            "2 Error rate on test set:25.0%\n",
            "2 Error rate on test set:22.22222222222222%\n",
            "2 Error rate on test set:22.22222222222222%\n",
            "2 Error rate on test set:19.444444444444443%\n",
            "2 Error rate on test set:16.666666666666664%\n",
            "2 Error rate on test set:16.666666666666664%\n",
            "2 Error rate on test set:16.666666666666664%\n",
            "2 Error rate on test set:25.0%\n",
            "2 Error rate on test set:25.0%\n",
            "2 Error rate on test set:16.666666666666664%\n",
            "2 Error rate on test set:16.666666666666664%\n",
            "2 Error rate on test set:16.666666666666664%\n",
            "2 Error rate on test set:25.0%\n",
            "2 Error rate on test set:16.666666666666664%\n",
            "2 Error rate on test set:16.666666666666664%\n",
            "2 Error rate on test set:19.444444444444443%\n",
            "2 Error rate on test set:22.22222222222222%\n",
            "3 Error rate on test set:30.555555555555557%\n",
            "3 Error rate on test set:13.888888888888884%\n",
            "3 Error rate on test set:19.444444444444443%\n",
            "3 Error rate on test set:13.888888888888884%\n",
            "3 Error rate on test set:30.555555555555557%\n",
            "3 Error rate on test set:30.555555555555557%\n",
            "3 Error rate on test set:22.22222222222222%\n",
            "3 Error rate on test set:22.22222222222222%\n",
            "3 Error rate on test set:22.22222222222222%\n",
            "3 Error rate on test set:16.666666666666664%\n",
            "3 Error rate on test set:16.666666666666664%\n",
            "3 Error rate on test set:16.666666666666664%\n",
            "3 Error rate on test set:47.22222222222222%\n",
            "3 Error rate on test set:22.22222222222222%\n",
            "3 Error rate on test set:33.333333333333336%\n",
            "3 Error rate on test set:30.555555555555557%\n",
            "3 Error rate on test set:22.22222222222222%\n",
            "3 Error rate on test set:22.22222222222222%\n",
            "3 Error rate on test set:19.444444444444443%\n",
            "3 Error rate on test set:16.666666666666664%\n",
            "3 Error rate on test set:16.666666666666664%\n",
            "3 Error rate on test set:16.666666666666664%\n",
            "3 Error rate on test set:22.22222222222222%\n",
            "3 Error rate on test set:33.333333333333336%\n",
            "3 Error rate on test set:33.333333333333336%\n",
            "3 Error rate on test set:22.22222222222222%\n",
            "3 Error rate on test set:22.22222222222222%\n",
            "3 Error rate on test set:19.444444444444443%\n",
            "3 Error rate on test set:16.666666666666664%\n",
            "3 Error rate on test set:16.666666666666664%\n",
            "3 Error rate on test set:16.666666666666664%\n",
            "3 Error rate on test set:22.22222222222222%\n",
            "3 Error rate on test set:25.0%\n",
            "3 Error rate on test set:25.0%\n",
            "3 Error rate on test set:19.444444444444443%\n",
            "3 Error rate on test set:16.666666666666664%\n",
            "3 Error rate on test set:16.666666666666664%\n",
            "3 Error rate on test set:16.666666666666664%\n",
            "3 Error rate on test set:22.22222222222222%\n",
            "3 Error rate on test set:33.333333333333336%\n",
            "3 Error rate on test set:16.666666666666664%\n",
            "3 Error rate on test set:16.666666666666664%\n",
            "3 Error rate on test set:19.444444444444443%\n",
            "3 Error rate on test set:22.22222222222222%\n",
            "3 Error rate on test set:16.666666666666664%\n",
            "3 Error rate on test set:16.666666666666664%\n",
            "3 Error rate on test set:22.22222222222222%\n",
            "3 Error rate on test set:22.22222222222222%\n",
            "4 Error rate on test set:25.0%\n",
            "4 Error rate on test set:11.111111111111116%\n",
            "4 Error rate on test set:8.333333333333337%\n",
            "k= 4 i= 0 j= 3\n",
            "4 Error rate on test set:13.888888888888884%\n",
            "4 Error rate on test set:22.22222222222222%\n",
            "4 Error rate on test set:22.22222222222222%\n",
            "4 Error rate on test set:16.666666666666664%\n",
            "4 Error rate on test set:16.666666666666664%\n",
            "4 Error rate on test set:16.666666666666664%\n",
            "4 Error rate on test set:13.888888888888884%\n",
            "4 Error rate on test set:13.888888888888884%\n",
            "4 Error rate on test set:13.888888888888884%\n",
            "4 Error rate on test set:47.22222222222222%\n",
            "4 Error rate on test set:30.555555555555557%\n",
            "4 Error rate on test set:25.0%\n",
            "4 Error rate on test set:25.0%\n",
            "4 Error rate on test set:16.666666666666664%\n",
            "4 Error rate on test set:16.666666666666664%\n",
            "4 Error rate on test set:16.666666666666664%\n",
            "4 Error rate on test set:13.888888888888884%\n",
            "4 Error rate on test set:13.888888888888884%\n",
            "4 Error rate on test set:13.888888888888884%\n",
            "4 Error rate on test set:25.0%\n",
            "4 Error rate on test set:25.0%\n",
            "4 Error rate on test set:22.22222222222222%\n",
            "4 Error rate on test set:19.444444444444443%\n",
            "4 Error rate on test set:19.444444444444443%\n",
            "4 Error rate on test set:19.444444444444443%\n",
            "4 Error rate on test set:13.888888888888884%\n",
            "4 Error rate on test set:13.888888888888884%\n",
            "4 Error rate on test set:13.888888888888884%\n",
            "4 Error rate on test set:25.0%\n",
            "4 Error rate on test set:19.444444444444443%\n",
            "4 Error rate on test set:19.444444444444443%\n",
            "4 Error rate on test set:19.444444444444443%\n",
            "4 Error rate on test set:13.888888888888884%\n",
            "4 Error rate on test set:13.888888888888884%\n",
            "4 Error rate on test set:13.888888888888884%\n",
            "4 Error rate on test set:25.0%\n",
            "4 Error rate on test set:25.0%\n",
            "4 Error rate on test set:16.666666666666664%\n",
            "4 Error rate on test set:16.666666666666664%\n",
            "4 Error rate on test set:16.666666666666664%\n",
            "4 Error rate on test set:27.77777777777778%\n",
            "4 Error rate on test set:16.666666666666664%\n",
            "4 Error rate on test set:16.666666666666664%\n",
            "4 Error rate on test set:27.77777777777778%\n",
            "4 Error rate on test set:27.77777777777778%\n",
            "5 Error rate on test set:25.0%\n",
            "5 Error rate on test set:16.666666666666664%\n",
            "5 Error rate on test set:11.111111111111116%\n",
            "5 Error rate on test set:16.666666666666664%\n",
            "5 Error rate on test set:27.77777777777778%\n",
            "5 Error rate on test set:25.0%\n",
            "5 Error rate on test set:16.666666666666664%\n",
            "5 Error rate on test set:16.666666666666664%\n",
            "5 Error rate on test set:13.888888888888884%\n",
            "5 Error rate on test set:13.888888888888884%\n",
            "5 Error rate on test set:13.888888888888884%\n",
            "5 Error rate on test set:11.111111111111116%\n",
            "5 Error rate on test set:44.44444444444444%\n",
            "5 Error rate on test set:27.77777777777778%\n",
            "5 Error rate on test set:25.0%\n",
            "5 Error rate on test set:25.0%\n",
            "5 Error rate on test set:16.666666666666664%\n",
            "5 Error rate on test set:16.666666666666664%\n",
            "5 Error rate on test set:19.444444444444443%\n",
            "5 Error rate on test set:13.888888888888884%\n",
            "5 Error rate on test set:13.888888888888884%\n",
            "5 Error rate on test set:13.888888888888884%\n",
            "5 Error rate on test set:19.444444444444443%\n",
            "5 Error rate on test set:27.77777777777778%\n",
            "5 Error rate on test set:25.0%\n",
            "5 Error rate on test set:19.444444444444443%\n",
            "5 Error rate on test set:19.444444444444443%\n",
            "5 Error rate on test set:22.22222222222222%\n",
            "5 Error rate on test set:13.888888888888884%\n",
            "5 Error rate on test set:13.888888888888884%\n",
            "5 Error rate on test set:13.888888888888884%\n",
            "5 Error rate on test set:16.666666666666664%\n",
            "5 Error rate on test set:19.444444444444443%\n",
            "5 Error rate on test set:19.444444444444443%\n",
            "5 Error rate on test set:25.0%\n",
            "5 Error rate on test set:13.888888888888884%\n",
            "5 Error rate on test set:13.888888888888884%\n",
            "5 Error rate on test set:13.888888888888884%\n",
            "5 Error rate on test set:16.666666666666664%\n",
            "5 Error rate on test set:25.0%\n",
            "5 Error rate on test set:13.888888888888884%\n",
            "5 Error rate on test set:13.888888888888884%\n",
            "5 Error rate on test set:13.888888888888884%\n",
            "5 Error rate on test set:22.22222222222222%\n",
            "5 Error rate on test set:16.666666666666664%\n",
            "5 Error rate on test set:16.666666666666664%\n",
            "5 Error rate on test set:25.0%\n",
            "5 Error rate on test set:25.0%\n",
            "6 Error rate on test set:25.0%\n",
            "6 Error rate on test set:13.888888888888884%\n",
            "6 Error rate on test set:8.333333333333337%\n",
            "k= 6 i= 0 j= 3\n",
            "6 Error rate on test set:13.888888888888884%\n",
            "6 Error rate on test set:19.444444444444443%\n",
            "6 Error rate on test set:19.444444444444443%\n",
            "6 Error rate on test set:16.666666666666664%\n",
            "6 Error rate on test set:16.666666666666664%\n",
            "6 Error rate on test set:16.666666666666664%\n",
            "6 Error rate on test set:13.888888888888884%\n",
            "6 Error rate on test set:13.888888888888884%\n",
            "6 Error rate on test set:13.888888888888884%\n",
            "6 Error rate on test set:38.888888888888886%\n",
            "6 Error rate on test set:30.555555555555557%\n",
            "6 Error rate on test set:19.444444444444443%\n",
            "6 Error rate on test set:19.444444444444443%\n",
            "6 Error rate on test set:16.666666666666664%\n",
            "6 Error rate on test set:16.666666666666664%\n",
            "6 Error rate on test set:16.666666666666664%\n",
            "6 Error rate on test set:16.666666666666664%\n",
            "6 Error rate on test set:16.666666666666664%\n",
            "6 Error rate on test set:16.666666666666664%\n",
            "6 Error rate on test set:25.0%\n",
            "6 Error rate on test set:22.22222222222222%\n",
            "6 Error rate on test set:22.22222222222222%\n",
            "6 Error rate on test set:19.444444444444443%\n",
            "6 Error rate on test set:19.444444444444443%\n",
            "6 Error rate on test set:22.22222222222222%\n",
            "6 Error rate on test set:16.666666666666664%\n",
            "6 Error rate on test set:16.666666666666664%\n",
            "6 Error rate on test set:16.666666666666664%\n",
            "6 Error rate on test set:25.0%\n",
            "6 Error rate on test set:19.444444444444443%\n",
            "6 Error rate on test set:19.444444444444443%\n",
            "6 Error rate on test set:22.22222222222222%\n",
            "6 Error rate on test set:16.666666666666664%\n",
            "6 Error rate on test set:16.666666666666664%\n",
            "6 Error rate on test set:16.666666666666664%\n",
            "6 Error rate on test set:25.0%\n",
            "6 Error rate on test set:25.0%\n",
            "6 Error rate on test set:13.888888888888884%\n",
            "6 Error rate on test set:13.888888888888884%\n",
            "6 Error rate on test set:13.888888888888884%\n",
            "6 Error rate on test set:25.0%\n",
            "6 Error rate on test set:16.666666666666664%\n",
            "6 Error rate on test set:16.666666666666664%\n",
            "6 Error rate on test set:25.0%\n",
            "6 Error rate on test set:25.0%\n",
            "7 Error rate on test set:27.77777777777778%\n",
            "7 Error rate on test set:11.111111111111116%\n",
            "7 Error rate on test set:11.111111111111116%\n",
            "7 Error rate on test set:16.666666666666664%\n",
            "7 Error rate on test set:19.444444444444443%\n",
            "7 Error rate on test set:19.444444444444443%\n",
            "7 Error rate on test set:19.444444444444443%\n",
            "7 Error rate on test set:19.444444444444443%\n",
            "7 Error rate on test set:16.666666666666664%\n",
            "7 Error rate on test set:13.888888888888884%\n",
            "7 Error rate on test set:13.888888888888884%\n",
            "7 Error rate on test set:11.111111111111116%\n",
            "7 Error rate on test set:36.111111111111114%\n",
            "7 Error rate on test set:30.555555555555557%\n",
            "7 Error rate on test set:19.444444444444443%\n",
            "7 Error rate on test set:19.444444444444443%\n",
            "7 Error rate on test set:19.444444444444443%\n",
            "7 Error rate on test set:19.444444444444443%\n",
            "7 Error rate on test set:16.666666666666664%\n",
            "7 Error rate on test set:13.888888888888884%\n",
            "7 Error rate on test set:13.888888888888884%\n",
            "7 Error rate on test set:16.666666666666664%\n",
            "7 Error rate on test set:22.22222222222222%\n",
            "7 Error rate on test set:22.22222222222222%\n",
            "7 Error rate on test set:22.22222222222222%\n",
            "7 Error rate on test set:19.444444444444443%\n",
            "7 Error rate on test set:22.22222222222222%\n",
            "7 Error rate on test set:22.22222222222222%\n",
            "7 Error rate on test set:13.888888888888884%\n",
            "7 Error rate on test set:13.888888888888884%\n",
            "7 Error rate on test set:13.888888888888884%\n",
            "7 Error rate on test set:22.22222222222222%\n",
            "7 Error rate on test set:19.444444444444443%\n",
            "7 Error rate on test set:22.22222222222222%\n",
            "7 Error rate on test set:22.22222222222222%\n",
            "7 Error rate on test set:13.888888888888884%\n",
            "7 Error rate on test set:13.888888888888884%\n",
            "7 Error rate on test set:13.888888888888884%\n",
            "7 Error rate on test set:22.22222222222222%\n",
            "7 Error rate on test set:22.22222222222222%\n",
            "7 Error rate on test set:13.888888888888884%\n",
            "7 Error rate on test set:13.888888888888884%\n",
            "7 Error rate on test set:16.666666666666664%\n",
            "7 Error rate on test set:22.22222222222222%\n",
            "7 Error rate on test set:16.666666666666664%\n",
            "7 Error rate on test set:16.666666666666664%\n",
            "7 Error rate on test set:16.666666666666664%\n",
            "7 Error rate on test set:16.666666666666664%\n",
            "8 Error rate on test set:27.77777777777778%\n",
            "8 Error rate on test set:16.666666666666664%\n",
            "8 Error rate on test set:11.111111111111116%\n",
            "8 Error rate on test set:19.444444444444443%\n",
            "8 Error rate on test set:16.666666666666664%\n",
            "8 Error rate on test set:19.444444444444443%\n",
            "8 Error rate on test set:16.666666666666664%\n",
            "8 Error rate on test set:19.444444444444443%\n",
            "8 Error rate on test set:16.666666666666664%\n",
            "8 Error rate on test set:16.666666666666664%\n",
            "8 Error rate on test set:16.666666666666664%\n",
            "8 Error rate on test set:16.666666666666664%\n",
            "8 Error rate on test set:27.77777777777778%\n",
            "8 Error rate on test set:30.555555555555557%\n",
            "8 Error rate on test set:19.444444444444443%\n",
            "8 Error rate on test set:19.444444444444443%\n",
            "8 Error rate on test set:16.666666666666664%\n",
            "8 Error rate on test set:16.666666666666664%\n",
            "8 Error rate on test set:16.666666666666664%\n",
            "8 Error rate on test set:16.666666666666664%\n",
            "8 Error rate on test set:16.666666666666664%\n",
            "8 Error rate on test set:16.666666666666664%\n",
            "8 Error rate on test set:30.555555555555557%\n",
            "8 Error rate on test set:19.444444444444443%\n",
            "8 Error rate on test set:25.0%\n",
            "8 Error rate on test set:19.444444444444443%\n",
            "8 Error rate on test set:19.444444444444443%\n",
            "8 Error rate on test set:19.444444444444443%\n",
            "8 Error rate on test set:16.666666666666664%\n",
            "8 Error rate on test set:16.666666666666664%\n",
            "8 Error rate on test set:16.666666666666664%\n",
            "8 Error rate on test set:30.555555555555557%\n",
            "8 Error rate on test set:19.444444444444443%\n",
            "8 Error rate on test set:19.444444444444443%\n",
            "8 Error rate on test set:19.444444444444443%\n",
            "8 Error rate on test set:16.666666666666664%\n",
            "8 Error rate on test set:16.666666666666664%\n",
            "8 Error rate on test set:16.666666666666664%\n",
            "8 Error rate on test set:30.555555555555557%\n",
            "8 Error rate on test set:22.22222222222222%\n",
            "8 Error rate on test set:19.444444444444443%\n",
            "8 Error rate on test set:19.444444444444443%\n",
            "8 Error rate on test set:16.666666666666664%\n",
            "8 Error rate on test set:30.555555555555557%\n",
            "8 Error rate on test set:16.666666666666664%\n",
            "8 Error rate on test set:16.666666666666664%\n",
            "8 Error rate on test set:25.0%\n",
            "8 Error rate on test set:25.0%\n",
            "9 Error rate on test set:27.77777777777778%\n",
            "9 Error rate on test set:11.111111111111116%\n",
            "9 Error rate on test set:11.111111111111116%\n",
            "9 Error rate on test set:22.22222222222222%\n",
            "9 Error rate on test set:27.77777777777778%\n",
            "9 Error rate on test set:25.0%\n",
            "9 Error rate on test set:22.22222222222222%\n",
            "9 Error rate on test set:22.22222222222222%\n",
            "9 Error rate on test set:19.444444444444443%\n",
            "9 Error rate on test set:16.666666666666664%\n",
            "9 Error rate on test set:16.666666666666664%\n",
            "9 Error rate on test set:13.888888888888884%\n",
            "9 Error rate on test set:33.333333333333336%\n",
            "9 Error rate on test set:36.111111111111114%\n",
            "9 Error rate on test set:27.77777777777778%\n",
            "9 Error rate on test set:25.0%\n",
            "9 Error rate on test set:22.22222222222222%\n",
            "9 Error rate on test set:22.22222222222222%\n",
            "9 Error rate on test set:19.444444444444443%\n",
            "9 Error rate on test set:16.666666666666664%\n",
            "9 Error rate on test set:16.666666666666664%\n",
            "9 Error rate on test set:16.666666666666664%\n",
            "9 Error rate on test set:25.0%\n",
            "9 Error rate on test set:27.77777777777778%\n",
            "9 Error rate on test set:25.0%\n",
            "9 Error rate on test set:25.0%\n",
            "9 Error rate on test set:25.0%\n",
            "9 Error rate on test set:25.0%\n",
            "9 Error rate on test set:16.666666666666664%\n",
            "9 Error rate on test set:16.666666666666664%\n",
            "9 Error rate on test set:16.666666666666664%\n",
            "9 Error rate on test set:25.0%\n",
            "9 Error rate on test set:25.0%\n",
            "9 Error rate on test set:25.0%\n",
            "9 Error rate on test set:25.0%\n",
            "9 Error rate on test set:16.666666666666664%\n",
            "9 Error rate on test set:16.666666666666664%\n",
            "9 Error rate on test set:16.666666666666664%\n",
            "9 Error rate on test set:25.0%\n",
            "9 Error rate on test set:25.0%\n",
            "9 Error rate on test set:13.888888888888884%\n",
            "9 Error rate on test set:16.666666666666664%\n",
            "9 Error rate on test set:16.666666666666664%\n",
            "9 Error rate on test set:25.0%\n",
            "9 Error rate on test set:16.666666666666664%\n",
            "9 Error rate on test set:16.666666666666664%\n",
            "9 Error rate on test set:25.0%\n",
            "9 Error rate on test set:25.0%\n"
          ]
        },
        {
          "output_type": "display_data",
          "data": {
            "text/plain": [
              "<Figure size 640x480 with 1 Axes>"
            ],
            "image/png": "[encoded data removed]"
          },
          "metadata": {}
        }
      ],
      "source": [
        "# ------------------ Add your code here -------------------\n"
      ]
    },
    {
      "cell_type": "code",
      "execution_count": null,
      "id": "1d71314f",
      "metadata": {
        "id": "1d71314f"
      },
      "outputs": [],
      "source": []
    }
  ],
  "metadata": {
    "kernelspec": {
      "display_name": "Python 3 (ipykernel)",
      "language": "python",
      "name": "python3"
    },
    "language_info": {
      "codemirror_mode": {
        "name": "ipython",
        "version": 3
      },
      "file_extension": ".py",
      "mimetype": "text/x-python",
      "name": "python",
      "nbconvert_exporter": "python",
      "pygments_lexer": "ipython3",
      "version": "3.9.12"
    },
    "colab": {
      "provenance": []
    }
  },
  "nbformat": 4,
  "nbformat_minor": 5
}