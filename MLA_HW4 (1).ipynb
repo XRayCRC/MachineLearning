{
  "cells": [
    {
      "cell_type": "markdown",
      "id": "f75eb865",
      "metadata": {
        "id": "f75eb865"
      },
      "source": [
        "## Machine Learning Algorithms 2023\n",
        "## Homework 4: Using ANNs (80 points)\n",
        "\n",
        "\n",
        "\n",
        "\n",
        "Name: Last, First\n",
        "\n",
        "Email:\n",
        "\n",
        "Kean ID:\n",
        "\n",
        "Course:\n",
        "\n",
        "\n",
        "This homework aims to enhance your understanding of the ANN algorithm using the Hand Written Digits Classification dataset: MNIST and a tabular dataset.\n",
        "\n",
        "## Run each cell and save the results in Google Colab Notebook before submission. You will not get points without saving your results.\n",
        "\n",
        "## Enable GPU support in Colab to speed up the training process.\n",
        "\n",
        "Tasks:\n",
        "\n",
        "[Task 1](#section1) (80 points)\n",
        "\n",
        "[Extra](#section2) (20 points)\n"
      ]
    },
    {
      "cell_type": "markdown",
      "id": "724a5e59",
      "metadata": {
        "id": "724a5e59"
      },
      "source": [
        "### Task 1: Create an ANN and train it on the MNIST dataset. 80 points <a id = \"section1\"/>\n",
        "\n",
        "We introduced the MNIST dataset in Homework 3. Please refer to the notebooks of Homework 3 and Lecture 14 for details.\n",
        "\n",
        "\n"
      ]
    },
    {
      "cell_type": "markdown",
      "id": "e2e61305",
      "metadata": {
        "id": "e2e61305"
      },
      "source": [
        "### Task 1.1: Load dataset (20 points)\n",
        "   - load the training set and test set of MNIST dataset using PyTorch (10 points). training batch size = 128, test batch size = 1. Hint: use torchvision.datasets.MNIST and torch.utils.data.DataLoader.\n",
        "   \n",
        "   - print the number of images in training set (5 points).\n",
        "   \n",
        "   - print the number of images in test set (5 points)."
      ]
    },
    {
      "cell_type": "code",
      "execution_count": 1,
      "id": "d8acb29e",
      "metadata": {
        "colab": {
          "base_uri": "https://localhost:8080/"
        },
        "id": "d8acb29e",
        "outputId": "e9049982-72bc-4984-bfbf-bc90a391351b"
      },
      "outputs": [
        {
          "output_type": "stream",
          "name": "stdout",
          "text": [
            "Downloading http://yann.lecun.com/exdb/mnist/train-images-idx3-ubyte.gz\n",
            "Downloading http://yann.lecun.com/exdb/mnist/train-images-idx3-ubyte.gz to ./data/MNIST/raw/train-images-idx3-ubyte.gz\n"
          ]
        },
        {
          "output_type": "stream",
          "name": "stderr",
          "text": [
            "100%|██████████| 9912422/9912422 [00:00<00:00, 110752199.67it/s]\n"
          ]
        },
        {
          "output_type": "stream",
          "name": "stdout",
          "text": [
            "Extracting ./data/MNIST/raw/train-images-idx3-ubyte.gz to ./data/MNIST/raw\n",
            "\n",
            "Downloading http://yann.lecun.com/exdb/mnist/train-labels-idx1-ubyte.gz\n",
            "Downloading http://yann.lecun.com/exdb/mnist/train-labels-idx1-ubyte.gz to ./data/MNIST/raw/train-labels-idx1-ubyte.gz\n"
          ]
        },
        {
          "output_type": "stream",
          "name": "stderr",
          "text": [
            "100%|██████████| 28881/28881 [00:00<00:00, 40786428.90it/s]"
          ]
        },
        {
          "output_type": "stream",
          "name": "stdout",
          "text": [
            "Extracting ./data/MNIST/raw/train-labels-idx1-ubyte.gz to ./data/MNIST/raw\n",
            "\n",
            "Downloading http://yann.lecun.com/exdb/mnist/t10k-images-idx3-ubyte.gz\n",
            "Downloading http://yann.lecun.com/exdb/mnist/t10k-images-idx3-ubyte.gz to ./data/MNIST/raw/t10k-images-idx3-ubyte.gz\n"
          ]
        },
        {
          "output_type": "stream",
          "name": "stderr",
          "text": [
            "\n",
            "100%|██████████| 1648877/1648877 [00:00<00:00, 30636534.94it/s]\n"
          ]
        },
        {
          "output_type": "stream",
          "name": "stdout",
          "text": [
            "Extracting ./data/MNIST/raw/t10k-images-idx3-ubyte.gz to ./data/MNIST/raw\n",
            "\n",
            "Downloading http://yann.lecun.com/exdb/mnist/t10k-labels-idx1-ubyte.gz\n",
            "Downloading http://yann.lecun.com/exdb/mnist/t10k-labels-idx1-ubyte.gz to ./data/MNIST/raw/t10k-labels-idx1-ubyte.gz\n"
          ]
        },
        {
          "output_type": "stream",
          "name": "stderr",
          "text": [
            "100%|██████████| 4542/4542 [00:00<00:00, 23260718.89it/s]\n"
          ]
        },
        {
          "output_type": "stream",
          "name": "stdout",
          "text": [
            "Extracting ./data/MNIST/raw/t10k-labels-idx1-ubyte.gz to ./data/MNIST/raw\n",
            "\n",
            "Number of images in the training set: 60000\n",
            "Number of images in the test set: 10000\n"
          ]
        }
      ],
      "source": [
        "# Task 1.1 Load dataset (20 points)\n",
        "import torch\n",
        "import numpy as np\n",
        "import matplotlib.pyplot as plt #using pyplot to display images\n",
        "import torchvision\n",
        "from torchvision import datasets, transforms\n",
        "\n",
        "# 1.load data\n",
        "###  \"------- add your code here -------\"\n",
        "\n",
        "# Define transformations for the data\n",
        "transform = transforms.Compose([transforms.ToTensor(), transforms.Normalize((0.5,), (0.5,))])\n",
        "\n",
        "# Load the datasets set\n",
        "train_dataset = torchvision.datasets.MNIST(root='./data', train=True, download=True, transform=transform)\n",
        "test_dataset = torchvision.datasets.MNIST(root='./data', train=False, download=True, transform=transform)\n",
        "\n",
        "\n",
        "\n",
        "# 2. create the train_loader and test_loader\n",
        "###  \"------- add your code here -------\"\n",
        "\n",
        "#Create the train_loader and test_loader\n",
        "train_loader = torch.utils.data.DataLoader(dataset=train_dataset, batch_size=128, shuffle=True)\n",
        "test_loader = torch.utils.data.DataLoader(dataset=test_dataset, batch_size=1, shuffle=False)\n",
        "\n",
        "# Print the number of images in the training set\n",
        "print(f\"Number of images in the training set: {len(train_dataset)}\")\n",
        "\n",
        "# Print the number of images in the test set\n",
        "print(f\"Number of images in the test set: {len(test_dataset)}\")\n",
        "\n"
      ]
    },
    {
      "cell_type": "markdown",
      "id": "5a38a6af",
      "metadata": {
        "id": "5a38a6af"
      },
      "source": [
        "### Task 1.2: Create an Network class (20 points).\n",
        "   - Build Net class: a Feedforward NN with 3 torch.nn.Linear layers following the below instructions (10 points):\n",
        "        - The first layer has 128 outputs and uses the ReLU() activation function. Think: What is the number of inputs in the first Linear layer?\n",
        "        - The second layer has 64 outputs and uses the ReLU() activation function.\n",
        "        - Think: How many outputs should you have in the third layer? Remember: You don't need an activation function in the third layer.\n",
        "   - Create an object of Net class (4 points).\n",
        "   - Create a SGD optimizer (4 points). learning rate = 0.01\n",
        "   - Create a cross entropy loss (2 points).\n",
        "   \n",
        "   "
      ]
    },
    {
      "cell_type": "code",
      "execution_count": 2,
      "id": "ae2005e6",
      "metadata": {
        "id": "ae2005e6"
      },
      "outputs": [],
      "source": [
        "import torch.nn as nn\n",
        "import torch.optim as optim\n",
        "\n",
        "\n",
        "class Net(nn.Module):\n",
        "    def __init__(self):\n",
        "        super(Net, self).__init__()\n",
        "\n",
        "        ###  \"------- add your code here -------\"\n",
        "\n",
        "        # Input and First hidden layer\n",
        "        self.fc1 = nn.Linear(in_features=28*28, out_features=128)  # 28*28 is the number of inputs for MNIST images\n",
        "\n",
        "        # First activation function\n",
        "        self.relu1 = nn.ReLU()\n",
        "\n",
        "        # Second layer\n",
        "        self.fc2 = nn.Linear(in_features=128, out_features=64)\n",
        "\n",
        "        # Second activation function\n",
        "        self.relu2 = nn.ReLU()\n",
        "\n",
        "        # Third layer\n",
        "        self.fc3 = nn.Linear(in_features=64, out_features=10)  # 10 classes in MNIST, no activation function\n",
        "\n",
        "        # Hint: DON'T CREATE SOFTMAX HERE!!!!\n",
        "\n",
        "    def forward(self, x):\n",
        "\n",
        "        ###  \"------- add your code here -------\"\n",
        "\n",
        "        # Define the forward pass\n",
        "        x = x.view(-1, 28*28)  # Flatten the input\n",
        "        x = self.relu1(self.fc1(x))\n",
        "        x = self.relu2(self.fc2(x))\n",
        "        x = self.fc3(x)\n",
        "        return x\n",
        "\n",
        "\n",
        "# Create an object of the network\n",
        "###  \"------- add your code here -------\"\n",
        "\n",
        "model = Net()\n",
        "# optimizer\n",
        "\n",
        "###  \"------- add your code here -------\"\n",
        "\n",
        "# Create an SGD optimizer with a learning rate of 0.01\n",
        "optimizer = optim.SGD(model.parameters(), lr=0.01)\n",
        "\n",
        "# loss\n",
        "\n",
        "###  \"------- add your code here -------\"\n",
        "\n",
        "# Create a cross-entropy loss\n",
        "criterion = nn.CrossEntropyLoss()"
      ]
    },
    {
      "cell_type": "markdown",
      "id": "21bc022b",
      "metadata": {
        "id": "21bc022b"
      },
      "source": [
        "### Task 1.3: Training the network and draw figures (20 points).¶\n",
        "\n",
        "   - Train 20 epochs, print the average training loss in each epoch. (10 points)\n",
        "   - Draw a curve for the average training loss in 20 epochs (5 points).\n",
        "   - Draw a curve for the average test loss in 20 epochs (5 points).\n",
        "   \n",
        "Code for plotting is given, please save the training and testing loss properly in epoch_training_loss and epoch_test_loss to draw the two curves. Ensure your code run without errors.\n",
        "   \n",
        "   "
      ]
    },
    {
      "cell_type": "code",
      "execution_count": 5,
      "id": "64e33d5d",
      "metadata": {
        "colab": {
          "base_uri": "https://localhost:8080/",
          "height": 1000
        },
        "id": "64e33d5d",
        "outputId": "99bcb82b-d884-4173-91b0-b469dcd81f7f"
      },
      "outputs": [
        {
          "output_type": "stream",
          "name": "stdout",
          "text": [
            "Epoch 1/20, Average Training Loss: 0.0946\n",
            "Epoch 1/20, Average Test Loss: 0.1112\n",
            "Epoch 2/20, Average Training Loss: 0.0921\n",
            "Epoch 2/20, Average Test Loss: 0.1094\n",
            "Epoch 3/20, Average Training Loss: 0.0900\n",
            "Epoch 3/20, Average Test Loss: 0.1128\n",
            "Epoch 4/20, Average Training Loss: 0.0879\n",
            "Epoch 4/20, Average Test Loss: 0.1064\n",
            "Epoch 5/20, Average Training Loss: 0.0858\n",
            "Epoch 5/20, Average Test Loss: 0.1063\n",
            "Epoch 6/20, Average Training Loss: 0.0836\n",
            "Epoch 6/20, Average Test Loss: 0.1053\n",
            "Epoch 7/20, Average Training Loss: 0.0818\n",
            "Epoch 7/20, Average Test Loss: 0.1032\n",
            "Epoch 8/20, Average Training Loss: 0.0797\n",
            "Epoch 8/20, Average Test Loss: 0.1035\n",
            "Epoch 9/20, Average Training Loss: 0.0775\n",
            "Epoch 9/20, Average Test Loss: 0.1036\n",
            "Epoch 10/20, Average Training Loss: 0.0758\n",
            "Epoch 10/20, Average Test Loss: 0.0985\n",
            "Epoch 11/20, Average Training Loss: 0.0742\n",
            "Epoch 11/20, Average Test Loss: 0.0987\n",
            "Epoch 12/20, Average Training Loss: 0.0728\n",
            "Epoch 12/20, Average Test Loss: 0.0951\n",
            "Epoch 13/20, Average Training Loss: 0.0710\n",
            "Epoch 13/20, Average Test Loss: 0.0961\n",
            "Epoch 14/20, Average Training Loss: 0.0692\n",
            "Epoch 14/20, Average Test Loss: 0.0948\n",
            "Epoch 15/20, Average Training Loss: 0.0678\n",
            "Epoch 15/20, Average Test Loss: 0.0932\n",
            "Epoch 16/20, Average Training Loss: 0.0661\n",
            "Epoch 16/20, Average Test Loss: 0.0932\n",
            "Epoch 17/20, Average Training Loss: 0.0646\n",
            "Epoch 17/20, Average Test Loss: 0.0913\n",
            "Epoch 18/20, Average Training Loss: 0.0635\n",
            "Epoch 18/20, Average Test Loss: 0.0923\n",
            "Epoch 19/20, Average Training Loss: 0.0620\n",
            "Epoch 19/20, Average Test Loss: 0.0900\n",
            "Epoch 20/20, Average Training Loss: 0.0608\n",
            "Epoch 20/20, Average Test Loss: 0.0890\n",
            "Training Time: 372.44 seconds\n"
          ]
        },
        {
          "output_type": "display_data",
          "data": {
            "text/plain": [
              "<Figure size 1000x500 with 1 Axes>"
            ],
            "image/png": "[encoded data removed]"
          },
          "metadata": {}
        }
      ],
      "source": [
        "import time\n",
        "# train the nn\n",
        "epoch_training_loss = []\n",
        "epoch_test_loss = []\n",
        "start_time = time.time()\n",
        "num_epochs = 20\n",
        "for epoch in range (num_epochs):\n",
        "    model.train()\n",
        "    train_loss = []\n",
        "    # train the network\n",
        "\n",
        "    ###  \"------- add your code here -------\"\n",
        "\n",
        "    running_loss = 0.0\n",
        "    for inputs, labels in train_loader:\n",
        "        optimizer.zero_grad()  # Zero the gradients\n",
        "        outputs = model(inputs)  # Forward pass\n",
        "        loss = criterion(outputs, labels)  # Compute the loss\n",
        "        loss.backward()  # Backward pass\n",
        "        optimizer.step()  # Update weights\n",
        "        running_loss += loss.item()\n",
        "\n",
        "    # Calculate average training loss for the epoch\n",
        "    avg_train_loss = running_loss / len(train_loader)\n",
        "    epoch_training_loss.append(avg_train_loss)\n",
        "\n",
        "    # Print average training loss for the epoch\n",
        "    print(f\"Epoch {epoch + 1}/{num_epochs}, Average Training Loss: {avg_train_loss:.4f}\")\n",
        "\n",
        "\n",
        "    # predict results for test images:\n",
        "\n",
        "    model.eval()\n",
        "    test_loss = []\n",
        "    ###  \"------- add your code here -------\"\n",
        "\n",
        "    running_test_loss = 0.0\n",
        "    with torch.no_grad():\n",
        "        for inputs, labels in test_loader:\n",
        "            outputs = model(inputs)\n",
        "            test_loss = criterion(outputs, labels)\n",
        "            running_test_loss += test_loss.item()\n",
        "\n",
        "    # Calculate average test loss for the epoch\n",
        "    avg_test_loss = running_test_loss / len(test_loader)\n",
        "    epoch_test_loss.append(avg_test_loss)\n",
        "    print(f\"Epoch {epoch + 1}/{num_epochs}, Average Test Loss: {avg_test_loss:.4f}\")\n",
        "\n",
        "\n",
        "end_time = time.time()\n",
        "\n",
        "training_time = end_time - start_time\n",
        "print(\"Training Time: {:.2f} seconds\".format(training_time))\n",
        "\n",
        "# Draw curves here\n",
        "\n",
        "import matplotlib.pyplot as plt\n",
        "\n",
        "#plt.plot(epoch_training_loss)\n",
        "\n",
        "#plt.plot(epoch_test_loss)\n",
        "plt.figure(figsize=(10, 5))\n",
        "plt.plot(range(1, num_epochs + 1), epoch_training_loss, label='Training Loss')\n",
        "plt.plot(range(1, num_epochs + 1), epoch_test_loss, label='Test Loss')\n",
        "plt.title('Average Training and Test Loss Over Epochs')\n",
        "plt.xlabel('Epoch')\n",
        "plt.ylabel('Loss')\n",
        "plt.legend()\n",
        "plt.show()\n"
      ]
    },
    {
      "cell_type": "markdown",
      "source": [
        "### Task 1.4: Evaluation (20 points)\n",
        "\n",
        "Do the same thing as the Homework 3 Task 5\n",
        "\n",
        "Question 1: compute the confusion matrix and the accuracy for each class on Test Dataset\n"
      ],
      "metadata": {
        "id": "B2ZXMK637Q13"
      },
      "id": "B2ZXMK637Q13"
    },
    {
      "cell_type": "code",
      "source": [
        "from sklearn.metrics import confusion_matrix, accuracy_score\n",
        "\n",
        "y_test = []\n",
        "\n",
        "y_test_predict = []\n",
        "\n",
        "model.eval()\n",
        "###  \"------- add your code here -------\"\n",
        "\n",
        "# Initialize variables to store predicted labels and true labels\n",
        "all_predicted_labels = []\n",
        "all_true_labels = []\n",
        "\n",
        "# Evaluation loop\n",
        "model.eval()\n",
        "with torch.no_grad():\n",
        "    for inputs, labels in test_loader:\n",
        "        outputs = model(inputs)\n",
        "        predicted_labels = torch.argmax(outputs, dim=1).numpy()\n",
        "        true_labels = labels.numpy()\n",
        "\n",
        "        all_predicted_labels.extend(predicted_labels)\n",
        "        all_true_labels.extend(true_labels)\n",
        "\n",
        "# Convert lists to NumPy arrays for computing confusion matrix\n",
        "all_predicted_labels = np.array(all_predicted_labels)\n",
        "all_true_labels = np.array(all_true_labels)\n",
        "\n",
        "# Compute confusion matrix\n",
        "conf_matrix = confusion_matrix(all_true_labels, all_predicted_labels)\n",
        "\n",
        "# Compute accuracy for each class\n",
        "class_accuracy = conf_matrix.diagonal() / conf_matrix.sum(axis=1)\n",
        "\n",
        "# Compute overall accuracy\n",
        "overall_accuracy = accuracy_score(all_true_labels, all_predicted_labels)\n",
        "\n",
        "# Print confusion matrix\n",
        "print(\"Confusion Matrix:\")\n",
        "print(conf_matrix)\n",
        "\n",
        "# Print accuracy for each class\n",
        "print(\"\\nAccuracy for Each Class:\")\n",
        "for class_idx, accuracy in enumerate(class_accuracy):\n",
        "    print(f\"Class {class_idx}: {accuracy * 100:.2f}%\")\n",
        "\n",
        "# Print overall accuracy\n",
        "print(f\"\\nOverall Accuracy: {overall_accuracy * 100:.2f}%\")\n"
      ],
      "metadata": {
        "colab": {
          "base_uri": "https://localhost:8080/"
        },
        "id": "rJHiNoIN7PEN",
        "outputId": "95d969a4-7324-43f0-8e3b-de398f01fe78"
      },
      "id": "rJHiNoIN7PEN",
      "execution_count": 6,
      "outputs": [
        {
          "output_type": "stream",
          "name": "stdout",
          "text": [
            "Confusion Matrix:\n",
            "[[ 962    0    2    1    1    5    6    1    0    2]\n",
            " [   0 1124    3    1    0    1    3    1    2    0]\n",
            " [   4    1 1008    2    4    0    4    6    3    0]\n",
            " [   0    0    7  988    0    1    0    7    5    2]\n",
            " [   0    0    6    0  955    0    4    3    2   12]\n",
            " [   5    1    0    8    2  861    7    2    4    2]\n",
            " [   5    3    1    1    3    5  936    1    3    0]\n",
            " [   2    8   11    2    1    0    0 1000    2    2]\n",
            " [   4    1    3    3    3    5    8    4  942    1]\n",
            " [   4    4    2   11   15    4    1    7    0  961]]\n",
            "\n",
            "Accuracy for Each Class:\n",
            "Class 0: 98.16%\n",
            "Class 1: 99.03%\n",
            "Class 2: 97.67%\n",
            "Class 3: 97.82%\n",
            "Class 4: 97.25%\n",
            "Class 5: 96.52%\n",
            "Class 6: 97.70%\n",
            "Class 7: 97.28%\n",
            "Class 8: 96.71%\n",
            "Class 9: 95.24%\n",
            "\n",
            "Overall Accuracy: 97.37%\n"
          ]
        }
      ]
    },
    {
      "cell_type": "markdown",
      "source": [
        "Question 2 (10 Points): Finish the Comparison Table in Using Markdown\n",
        "\n",
        "show performance and training time for ANN\n",
        "\n",
        "## Answer this question: comparing LR, KNN and SVM in Homework 3 with ANN in this homework, which one do you think is the best?\n",
        "\n",
        "| Model | 0   | 1   | 2   | 3   | 4   | 5   | 6   | 7   | 8   | 9   | Train Time|\n",
        "|-------|-----|-----|-----|-----|-----|-----|-----|-----|-----|-----|-----|"
      ],
      "metadata": {
        "id": "Tb4DffTm9Kdl"
      },
      "id": "Tb4DffTm9Kdl"
    },
    {
      "cell_type": "code",
      "source": [
        "# Type your answers here\n",
        "##\n",
        "\n",
        "lr_accuracy = [0.98, 0.98, 0.88, 0.91, 0.93, 0.86, 0.95, 0.92, 0.87, 0.88]\n",
        "svm_accuracy = [0.99, 0.99, 0.97, 0.99, 0.98, 0.98, 0.99, 0.97, 0.98, 0.96]\n",
        "knn_accuracy = [0.99, 1.00, 0.96, 0.97, 0.96, 0.97, 0.99, 0.96, 0.94, 0.95]\n",
        "ann_accuracy = class_accuracy\n",
        "\n",
        "train_time_lr = 128.23\n",
        "train_time_svm = 295.94\n",
        "train_time_knn =  0.01\n",
        "train_time_ann = training_time\n",
        "\n",
        "\n",
        "# Create the Markdown table\n",
        "table_header = \"| Model | \" + \" | \".join(map(str, range(10))) + \" | Train Time |\\n\"\n",
        "table_line = \"|-------|-\" + \"-|-\".join([\"---\" for _ in range(11)]) + \"|\\n\"\n",
        "\n",
        "lr_row = f\"| LR    | {' | '.join(map(lambda x: f'{x:.2f}', lr_accuracy))} | {train_time_lr:.2f} s    |\\n\"\n",
        "svm_row = f\"| SVM   | {' | '.join(map(lambda x: f'{x:.2f}', svm_accuracy))} | {train_time_svm:.2f} s    |\\n\"\n",
        "knn_row = f\"| KNN   | {' | '.join(map(lambda x: f'{x:.2f}', knn_accuracy))} | {train_time_knn:.2f} s      |\\n\"\n",
        "ann_row = f\"| ANN   | {' | '.join(map(lambda x: f'{x:.2f}', ann_accuracy))} | {train_time_ann:.2f} s    |\\n\"\n",
        "\n",
        "markdown_table = table_header + table_line + lr_row + svm_row + knn_row + ann_row + table_line\n",
        "\n",
        "# Print or save the Markdown table\n",
        "print(markdown_table)"
      ],
      "metadata": {
        "id": "FNWKUI299qKV",
        "colab": {
          "base_uri": "https://localhost:8080/"
        },
        "outputId": "c334c5cf-fe73-42d1-f61b-84cc14fe8b2c"
      },
      "id": "FNWKUI299qKV",
      "execution_count": 9,
      "outputs": [
        {
          "output_type": "stream",
          "name": "stdout",
          "text": [
            "| Model | 0 | 1 | 2 | 3 | 4 | 5 | 6 | 7 | 8 | 9 | Train Time |\n",
            "|-------|-----|-----|-----|-----|-----|-----|-----|-----|-----|-----|----|\n",
            "| LR    | 0.98 | 0.98 | 0.88 | 0.91 | 0.93 | 0.86 | 0.95 | 0.92 | 0.87 | 0.88 | 128.23 s    |\n",
            "| SVM   | 0.99 | 0.99 | 0.97 | 0.99 | 0.98 | 0.98 | 0.99 | 0.97 | 0.98 | 0.96 | 295.94 s    |\n",
            "| KNN   | 0.99 | 1.00 | 0.96 | 0.97 | 0.96 | 0.97 | 0.99 | 0.96 | 0.94 | 0.95 | 0.01 s      |\n",
            "| ANN   | 0.98 | 0.99 | 0.98 | 0.98 | 0.97 | 0.97 | 0.98 | 0.97 | 0.97 | 0.95 | 372.44 s    |\n",
            "|-------|-----|-----|-----|-----|-----|-----|-----|-----|-----|-----|----|\n",
            "\n"
          ]
        }
      ]
    },
    {
      "cell_type": "markdown",
      "source": [
        "### Extra: Breast cancer detection using ANN. 20 Extra points <a id = \"section2\"/>\n",
        "\n",
        "In this task, we will use ANN to classify the Breast cancer detection dataset\n",
        "\n",
        "## This task will help you understand that the ANN can be used on NON-IMAGE DATASETS.\n",
        "\n",
        "Dataset\n",
        "\n",
        "    - Number of data samples: 569\n",
        "    \n",
        "    - Number of features: 30 numeric. The first 10 features were directly calculated using mean feautues of all nuclei in an image\n",
        "    \n",
        "    - Class labels\n",
        "        - Malignant (0)\n",
        "        - Benign (1)\n",
        "        \n",
        "    https://scikit-learn.org/stable/datasets/index.html#breast-cancer-dataset"
      ],
      "metadata": {
        "id": "FXMhwhsOEGoz"
      },
      "id": "FXMhwhsOEGoz"
    },
    {
      "cell_type": "markdown",
      "source": [
        "### Task: Design an ANN to classify Breast cancer detection dataset (20 points)\n",
        "   - Read the loading the training set and testing sets code.\n",
        "   - Starter code is given below. Don't change anything in the following cell. Read and understand how to load a dataset into pytorch.\n",
        "   - The feature vector is 1*30 in torch tensor data structure"
      ],
      "metadata": {
        "id": "B8HrmvEIFkUa"
      },
      "id": "B8HrmvEIFkUa"
    },
    {
      "cell_type": "code",
      "source": [
        "# Read the program in this cell to see how to load a dataset into pytorch\n",
        "# don't change anything in this cell.\n",
        "# load the training set and test set.\n",
        "\n",
        "import torch\n",
        "import numpy as np\n",
        "import torch.utils.data as data\n",
        "from torchvision import datasets, transforms\n",
        "import sklearn.datasets as ds\n",
        "from sklearn.model_selection import train_test_split\n",
        "\n",
        "\n",
        "breast_ds = ds.load_breast_cancer()\n",
        "\n",
        "X = breast_ds.data\n",
        "y = breast_ds.target\n",
        "\n",
        "X_train, X_test, y_train, y_test = train_test_split(X, y, test_size = 0.20, random_state = 0)\n",
        "\n",
        "\n",
        "# Dataset class\n",
        "\n",
        "class BreastCancer(data.Dataset):\n",
        "    def __init__(self, feature, label):\n",
        "        self.feature = feature\n",
        "        self.label = label\n",
        "\n",
        "    def __getitem__(self, index):\n",
        "        f = torch.from_numpy(self.feature[index].reshape(1, self.feature.shape[1])).float()\n",
        "        l = torch.from_numpy(self.label)[index]\n",
        "        return f, l\n",
        "\n",
        "    def __len__(self):\n",
        "        return self.feature.shape[0]\n",
        "\n",
        "# load training set and test set to Torch dataset\n",
        "train_dataset_b = BreastCancer(X_train, y_train)\n",
        "test_dataset_b = BreastCancer(X_test, y_test)\n",
        "\n",
        "train_loader_b = torch.utils.data.DataLoader(train_dataset_b, batch_size=64, shuffle=True)\n",
        "test_loader_b = torch.utils.data.DataLoader(test_dataset_b, batch_size=1, shuffle=False)\n",
        "\n",
        "# print the number of samples in training set and testing set\n",
        "\n",
        "\n",
        "print('Training samples #: ', len(train_dataset_b))\n",
        "print('Test samples #: ', len(test_dataset_b))\n",
        "\n"
      ],
      "metadata": {
        "colab": {
          "base_uri": "https://localhost:8080/"
        },
        "id": "fmbqFdPZFjZ-",
        "outputId": "e752a361-a11c-4d20-c570-ec7d8d23eba2"
      },
      "id": "fmbqFdPZFjZ-",
      "execution_count": 10,
      "outputs": [
        {
          "output_type": "stream",
          "name": "stdout",
          "text": [
            "Training samples #:  455\n",
            "Test samples #:  114\n"
          ]
        }
      ]
    },
    {
      "cell_type": "markdown",
      "source": [
        "### Create network structure (10 points)\n",
        "- Build a Net2 class: a Feedforward NN with 2 torch.nn.Linear layers following the below instructions (5 points):\n",
        "    - The first layer has 200 outputs and uses the ReLU() activation function. Think: how many inputs should you have?\n",
        "    - Think: How many outputs should you have in the second layer? No activation function is needed.\n",
        "    \n",
        "    - Hint: Because our feature vector is 1*30, in the def forward(self, x):function you should have x = torch.flatten(x, 1) first.\n",
        "- Create an object of Net2 class (2 points).\n",
        "- Use the SGD optimizer (2 points). learning rate = 0.0004\n",
        "- Use the cross entropy loss (1 points)."
      ],
      "metadata": {
        "id": "Hihadn0uFwu8"
      },
      "id": "Hihadn0uFwu8"
    },
    {
      "cell_type": "code",
      "source": [
        "import torch.nn as nn\n",
        "import torch.optim as optim\n",
        "\n",
        "\n",
        "class Net2(nn.Module):\n",
        "    def __init__(self):\n",
        "        super(Net2, self).__init__()\n",
        "        ###  \"------- add your code here -------\"\n",
        "\n",
        "        self.fc1 = nn.Linear(in_features=30, out_features=200)\n",
        "        self.relu = nn.ReLU()\n",
        "        self.fc2 = nn.Linear(in_features=200, out_features=10)  # 10 classes in the output layer, no activation function\n",
        "\n",
        "\n",
        "\n",
        "    def forward(self, x):\n",
        "       ###  \"------- add your code here -------\"\n",
        "\n",
        "        x = torch.flatten(x, 1)  # Flatten the input\n",
        "        x = self.relu(self.fc1(x))\n",
        "        x = self.fc2(x)\n",
        "        return x\n",
        "\n",
        "# Create an object of the network\n",
        "###  \"------- add your code here -------\"\n",
        "\n",
        "model2 = Net2()\n",
        "\n",
        "# optimizer\n",
        "###  \"------- add your code here -------\"\n",
        "\n",
        "optimizer2 = optim.SGD(model2.parameters(), lr=0.0004)\n",
        "\n",
        "# loss\n",
        "###  \"------- add your code here -------\"\n",
        "\n",
        "criterion2 = nn.CrossEntropyLoss()"
      ],
      "metadata": {
        "id": "jUx_UkciFvoL"
      },
      "id": "jUx_UkciFvoL",
      "execution_count": 11,
      "outputs": []
    },
    {
      "cell_type": "markdown",
      "source": [
        "### Train the network and Report the Test Accuracy (10 points)\n",
        "- Using train_loader_b to train your network. Train it for 30 epochs.\n",
        "- Report the test accuracy on the testing set test_loader_b."
      ],
      "metadata": {
        "id": "EBTiUb2RF7JI"
      },
      "id": "EBTiUb2RF7JI"
    },
    {
      "cell_type": "code",
      "source": [
        "# train your network\n",
        "num_epochs = 30\n",
        "\n",
        "for epoch in range(num_epochs):\n",
        "    ###  \"------- add your code here -------\"\n",
        "    # Training phase\n",
        "    model2.train()\n",
        "    running_loss = 0.0\n",
        "    for inputs, labels in train_loader_b:\n",
        "        optimizer2.zero_grad()  # Zero the gradients\n",
        "        outputs = model2(inputs)  # Forward pass\n",
        "        loss = criterion2(outputs, labels)  # Compute the loss\n",
        "        loss.backward()  # Backward pass\n",
        "        optimizer2.step()  # Update weights\n",
        "        running_loss += loss.item()\n",
        "\n",
        "    # Calculate average training loss for the epoch\n",
        "    avg_train_loss = running_loss / len(train_loader_b)\n",
        "    print(f\"Epoch {epoch + 1}/{num_epochs}, Average Training Loss: {avg_train_loss:.4f}\")\n",
        "\n",
        "# Testing phase\n",
        "model2.eval()\n",
        "correct = 0\n",
        "total = 0\n",
        "\n",
        "with torch.no_grad():\n",
        "    for inputs, labels in test_loader_b:\n",
        "        outputs = model2(inputs)\n",
        "        _, predicted = torch.max(outputs.data, 1)\n",
        "        total += labels.size(0)\n",
        "        correct += (predicted == labels).sum().item()\n",
        "\n",
        "\n",
        "\n",
        "# Report the test accuracy on test set test_loader_b.\n",
        "###  \"------- add your code here -------\"\n",
        "\n",
        "# Calculate and print test accuracy\n",
        "test_accuracy = correct / total\n",
        "print(f\"Test Accuracy: {test_accuracy * 100:.2f}%\")\n"
      ],
      "metadata": {
        "id": "6lIlnzLMGMP_",
        "colab": {
          "base_uri": "https://localhost:8080/"
        },
        "outputId": "1e454b3c-41ee-4401-dfb5-c13334436128"
      },
      "id": "6lIlnzLMGMP_",
      "execution_count": 12,
      "outputs": [
        {
          "output_type": "stream",
          "name": "stdout",
          "text": [
            "Epoch 1/30, Average Training Loss: 103.6930\n",
            "Epoch 2/30, Average Training Loss: 43.0348\n",
            "Epoch 3/30, Average Training Loss: 16.1088\n",
            "Epoch 4/30, Average Training Loss: 9.5245\n",
            "Epoch 5/30, Average Training Loss: 3.4695\n",
            "Epoch 6/30, Average Training Loss: 0.8865\n",
            "Epoch 7/30, Average Training Loss: 1.2130\n",
            "Epoch 8/30, Average Training Loss: 2.3037\n",
            "Epoch 9/30, Average Training Loss: 0.5537\n",
            "Epoch 10/30, Average Training Loss: 0.8050\n",
            "Epoch 11/30, Average Training Loss: 0.9400\n",
            "Epoch 12/30, Average Training Loss: 0.4932\n",
            "Epoch 13/30, Average Training Loss: 0.3378\n",
            "Epoch 14/30, Average Training Loss: 0.3209\n",
            "Epoch 15/30, Average Training Loss: 0.2968\n",
            "Epoch 16/30, Average Training Loss: 0.2426\n",
            "Epoch 17/30, Average Training Loss: 0.3983\n",
            "Epoch 18/30, Average Training Loss: 0.8956\n",
            "Epoch 19/30, Average Training Loss: 1.0310\n",
            "Epoch 20/30, Average Training Loss: 0.2508\n",
            "Epoch 21/30, Average Training Loss: 0.2249\n",
            "Epoch 22/30, Average Training Loss: 0.2410\n",
            "Epoch 23/30, Average Training Loss: 0.2585\n",
            "Epoch 24/30, Average Training Loss: 0.7037\n",
            "Epoch 25/30, Average Training Loss: 0.2768\n",
            "Epoch 26/30, Average Training Loss: 0.2021\n",
            "Epoch 27/30, Average Training Loss: 0.2292\n",
            "Epoch 28/30, Average Training Loss: 0.2628\n",
            "Epoch 29/30, Average Training Loss: 0.3630\n",
            "Epoch 30/30, Average Training Loss: 0.2026\n",
            "Test Accuracy: 94.74%\n"
          ]
        }
      ]
    }
  ],
  "metadata": {
    "kernelspec": {
      "display_name": "Python 3",
      "name": "python3"
    },
    "language_info": {
      "codemirror_mode": {
        "name": "ipython",
        "version": 3
      },
      "file_extension": ".py",
      "mimetype": "text/x-python",
      "name": "python",
      "nbconvert_exporter": "python",
      "pygments_lexer": "ipython3",
      "version": "3.9.12"
    },
    "colab": {
      "provenance": [],
      "gpuType": "T4"
    },
    "accelerator": "GPU"
  },
  "nbformat": 4,
  "nbformat_minor": 5
}