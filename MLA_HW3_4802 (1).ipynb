{
  "cells": [
    {
      "cell_type": "markdown",
      "id": "f75eb865",
      "metadata": {
        "id": "f75eb865"
      },
      "source": [
        "## Machine Learning Algorithms 2023\n",
        "## Homework 3: Hand Written Digits Classification Using Traditional Machine Learning Algorithms (80 points)\n",
        "\n",
        "Name: Conrad, Christian-Ray\n",
        "\n",
        "Email: conrchri@kean.edu\n",
        "\n",
        "Kean ID: 1126666\n",
        "\n",
        "Course: CPS 4802 - 01\n",
        "\n",
        "\n",
        "This homework aims to enhance your understanding of the traditional machine learning algorithms: logistic regression algorithm, K-NN, and SVM using the Hand Written Digits Classification dataset: MNIST.\n",
        "\n",
        "Also, this HW enhances your understanding of model evaluation.\n",
        "\n",
        "### Run each cell and save the results in Google Colab Notebook before submission. You will not get points without saving your results.\n",
        "\n",
        "# Note, because of the randomness, your results might not be exactly the same as the sample outputs!\n",
        "\n",
        "Tasks:\n",
        "\n",
        "[Task 1](#section1) (15 points)\n",
        "\n",
        "[Task 2](#section2) (15 points)\n",
        "\n",
        "[Task 3](#section3) (20 points)\n",
        "\n",
        "[Task 4](#section4) (20 points)\n",
        "\n",
        "[Task 5](#section5) (10 points)"
      ]
    },
    {
      "cell_type": "markdown",
      "id": "1ad84882",
      "metadata": {
        "id": "1ad84882"
      },
      "source": [
        "## Dataset: MNIST Dataset\n",
        "\n",
        "MNIST dataset:\n",
        "\n",
        "- Number of data samples: 70,000\n",
        "1. Training set: 60,000 samples\n",
        "2. Test set: 10,000 samples\n",
        "- Each data sample has 784 numeric attributes:\n",
        "1. These attributes represent pixel values of a 28x28 grayscale image.\n",
        "2. Each pixel value ranges from 0 (white) to 255 (black).\n",
        "- Each data has 1 digit class label:\n",
        "1. Values ranging from 0 to 9, representing handwritten digits."
      ]
    },
    {
      "cell_type": "markdown",
      "id": "724a5e59",
      "metadata": {
        "id": "724a5e59"
      },
      "source": [
        "### Task 1: Load training and test datasets using PyTorch and convert them into NumPy Array.  15 points <a id = \"section1\"/>\n",
        "**Four Sub-questions**\n",
        "1. (4 Points) Load MNIST training and test dataset using torchvision.datasets.MNIST.  \n",
        "2. (4 Points) Convert the Torch datasets into NumPy.array: (X_train, y_train, X_test, y_test represent training images, training labels, test images, test labels). Print the shapes of X_train, y_train, X_test, y_test and the shapes should match the example output.\n",
        "3. (3 Points) Using matplotlib.pyplot to show the first image in X_train, and the first image in X_test.\n",
        "4. (4 Points) Reshape X_train from 60000x28x28 to 60000x784 and Reshape X_test from 10000x28x28 to 10000x784\n",
        "\n",
        "**Hint: Please refer to the Lecture 12 Notebook loading CIFAR-10 dataset part.**"
      ]
    },
    {
      "cell_type": "code",
      "execution_count": null,
      "id": "54a1791b",
      "metadata": {
        "colab": {
          "base_uri": "https://localhost:8080/",
          "height": 561
        },
        "id": "54a1791b",
        "outputId": "b26dc698-fce5-466f-d09e-f29bfc30a86d"
      },
      "outputs": [
        {
          "output_type": "stream",
          "name": "stdout",
          "text": [
            "Shape of X_train: (60000, 28, 28)\n",
            "Shape ofy_train: (60000,)\n",
            "Shape of X_test: (10000, 28, 28)\n",
            "Shape of y_test: (10000,)\n"
          ]
        },
        {
          "output_type": "display_data",
          "data": {
            "text/plain": [
              "<Figure size 200x200 with 1 Axes>"
            ],
            "image/png": "[encoded data removed]"
          },
          "metadata": {}
        },
        {
          "output_type": "display_data",
          "data": {
            "text/plain": [
              "<Figure size 200x200 with 1 Axes>"
            ],
            "image/png": "[encoded data removed]"
          },
          "metadata": {}
        },
        {
          "output_type": "stream",
          "name": "stdout",
          "text": [
            "Shape of X_train: (60000, 784)\n",
            "Shape of X_test: (10000, 784)\n"
          ]
        }
      ],
      "source": [
        "# --------------------------------- Don't make any changes to this starter code ----------------------------------\n",
        "# Starter code: Load required modules\n",
        "import numpy as np\n",
        "import torchvision\n",
        "import torchvision.transforms as transforms\n",
        "import matplotlib.pyplot as plt\n",
        "\n",
        "import torchvision.datasets as datasets\n",
        "\n",
        "\n",
        "# Question 1: Load the MNIST dataset using torchvision.datasets.MNIST\n",
        "transform = transforms.Compose([transforms.ToTensor(), transforms.Normalize((0.5,), (0.5,))])\n",
        "\n",
        "train_dataset = datasets.MNIST(root='./data', train=True, download=True, transform=transform)\n",
        "test_dataset = datasets.MNIST(root='./data', train=False, download=True, transform=transform)\n",
        "\n",
        "\n",
        "# Question 2: Convert torch datasets to NumPy.array\n",
        "X_train = train_dataset.data.numpy()\n",
        "y_train = train_dataset.targets.numpy()\n",
        "X_test = test_dataset.data.numpy()\n",
        "y_test = test_dataset.targets.numpy()\n",
        "\n",
        "# Print Shapes of X_train, y_train, X_test, y_test\n",
        "print(\"Shape of X_train:\", X_train.shape)\n",
        "print(\"Shape ofy_train:\", y_train.shape)\n",
        "print(\"Shape of X_test:\", X_test.shape)\n",
        "print(\"Shape of y_test:\", y_test.shape)\n",
        "\n",
        "# Question 3: Plot the first image in X_train, and the first image in X_test\n",
        "plt.figure(figsize=(2, 2))\n",
        "plt.imshow(X_train[0], cmap='gray')\n",
        "plt.title(f\"Label: {y_train[0]} - Training Image\")\n",
        "plt.show()\n",
        "\n",
        "plt.figure(figsize=(2, 2))\n",
        "plt.imshow(X_test[0], cmap='gray')\n",
        "plt.title(f\"Label: {y_test[0]} - Test Image\")\n",
        "plt.show()\n",
        "\n",
        "# Question 4: Reshape X_train from 60000x28x28 to 60000x784\n",
        "#             Reshape X_test from 10000x28x28 to 10000x784\n",
        "X_train = X_train.reshape(X_train.shape[0], -1)\n",
        "X_test = X_test.reshape(X_test.shape[0], -1)\n",
        "\n",
        "\n",
        "# Print Shapes of X_train, X_test after reshape\n",
        "# Print the new shapes\n",
        "print(\"Shape of X_train:\", X_train.shape)\n",
        "print(\"Shape of X_test:\", X_test.shape)\n",
        "\n"
      ]
    },
    {
      "cell_type": "markdown",
      "source": [
        "### Task 2: Answer the following three questions.  15 points <a id = \"section2\"/>\n",
        "\n",
        "You can write down your answers in Python comments **OR** write programs to help you answer these three questions:\n",
        "\n",
        "1. (5 Points) How many training samples are in the MNIST dataset?\n",
        "2. (5 Points) How many test samples are in the MNIST dataset?\n",
        "3. (5 Points) How many classes are in the MNIST dataset?"
      ],
      "metadata": {
        "id": "gR_qisSLn91D"
      },
      "id": "gR_qisSLn91D"
    },
    {
      "cell_type": "code",
      "source": [
        "# Question 1\n",
        "\n",
        "#MNIST Training dataset has 60,000 samples.\n",
        "\n",
        "# Question 2\n",
        "\n",
        "#MNIST Test dataset has 10,000 samples.\n",
        "\n",
        "# Question 3\n",
        "\n",
        "#There are 10 classes in the MNIST dataset. Each class representing a digit of\n",
        "#0 through 9."
      ],
      "metadata": {
        "id": "jm45uCmRn7lM"
      },
      "id": "jm45uCmRn7lM",
      "execution_count": null,
      "outputs": []
    },
    {
      "cell_type": "markdown",
      "id": "120baa38",
      "metadata": {
        "id": "120baa38"
      },
      "source": [
        "### Task 3: Predict the MNIST dataset using logistic regression. 20 points <a id = \"section3\"/>\n",
        "- Question 1: Create and train a logistic regression model. Use C = 10, penalty = 'l1', solver = 'liblinear', random_state = 0, max_iter=1000. **Print how long it takes to train LR model**\n",
        "\n",
        "- Question 2: Use the trained model to predict class labels to predict the test dataset. Print the predict results.\n",
        "- Question 3: Compute the accuracy for each class\n",
        "\n",
        "  \n",
        "**Note: The training of the LR model may take 2-3 mins; please be patient.**"
      ]
    },
    {
      "cell_type": "code",
      "execution_count": null,
      "id": "38406cde",
      "metadata": {
        "colab": {
          "base_uri": "https://localhost:8080/"
        },
        "id": "38406cde",
        "outputId": "14e99b25-2d7e-4152-8a8d-f4a331504124"
      },
      "outputs": [
        {
          "output_type": "stream",
          "name": "stdout",
          "text": [
            "Training time: 128.23 seconds\n"
          ]
        }
      ],
      "source": [
        "# Question 1. Create and train a logistic regression model\n",
        "\n",
        "\n",
        "# ------------ Add your code here ------------\n",
        "import time\n",
        "from sklearn.linear_model import LogisticRegression\n",
        "from sklearn.metrics import accuracy_score\n",
        "\n",
        "# Question 1: Create and train a logistic regression model\n",
        "start_time = time.time()\n",
        "\n",
        "# Define and train the logistic regression model\n",
        "logreg = LogisticRegression(C=10, penalty='l1', solver='liblinear', random_state=0, max_iter=1000)\n",
        "logreg.fit(X_train, y_train)\n",
        "\n",
        "training_time = time.time() - start_time\n",
        "print(f\"Training time: {training_time:.2f} seconds\")"
      ]
    },
    {
      "cell_type": "code",
      "execution_count": null,
      "id": "e453778c",
      "metadata": {
        "colab": {
          "base_uri": "https://localhost:8080/"
        },
        "id": "e453778c",
        "outputId": "8cb28ab6-659a-4451-d279-adb80888b849"
      },
      "outputs": [
        {
          "output_type": "stream",
          "name": "stdout",
          "text": [
            "Predicted labels: [7 2 1 ... 4 5 6]\n"
          ]
        }
      ],
      "source": [
        "# Question 2. Predict the X_test using the trained LR model\n",
        "\n",
        "# ------------ Add your code here ------------\n",
        "\n",
        "y_pred = logreg.predict(X_test)\n",
        "print(\"Predicted labels:\", y_pred)\n"
      ]
    },
    {
      "cell_type": "code",
      "source": [
        "# Question 3. Compute the accuracy for each class\n",
        "\n",
        "# Hint: use confusion matrix\n",
        "from sklearn.metrics import confusion_matrix\n",
        "\n",
        "# ------------ Add your code here ------------\n",
        "\n",
        "conf_matrix = confusion_matrix(y_test, y_pred)\n",
        "\n",
        "# Calculate accuracy for each class\n",
        "class_accuracy = conf_matrix.diagonal() / conf_matrix.sum(axis=1)\n",
        "\n",
        "# Print accuracy for each class\n",
        "for i in range(10):\n",
        "    print(f\"Accuracy for class {i}: {class_accuracy[i]:.4f}\")\n",
        "\n"
      ],
      "metadata": {
        "id": "2UAz6ujAq7vI",
        "colab": {
          "base_uri": "https://localhost:8080/"
        },
        "outputId": "9c68468f-0be3-49e4-d692-bab5a685af62"
      },
      "id": "2UAz6ujAq7vI",
      "execution_count": null,
      "outputs": [
        {
          "output_type": "stream",
          "name": "stdout",
          "text": [
            "Accuracy for class 0: 0.9786\n",
            "Accuracy for class 1: 0.9780\n",
            "Accuracy for class 2: 0.8779\n",
            "Accuracy for class 3: 0.9089\n",
            "Accuracy for class 4: 0.9297\n",
            "Accuracy for class 5: 0.8632\n",
            "Accuracy for class 6: 0.9499\n",
            "Accuracy for class 7: 0.9154\n",
            "Accuracy for class 8: 0.8686\n",
            "Accuracy for class 9: 0.8821\n"
          ]
        }
      ]
    },
    {
      "cell_type": "markdown",
      "id": "fdad5706",
      "metadata": {
        "id": "fdad5706"
      },
      "source": [
        "### Task 4: Predict the MNIST dataset using SVM and K-NN.  20 points <a id = \"section4\"/>\n",
        "\n",
        "Repeat the Task 3 for SVM and KNN, and compute the accuracy for each class for SVM and KNN separately.\n",
        "\n",
        "**Print how long it takes to train SVM and KNN**\n",
        "\n",
        "Hyper-parameters:\n",
        "1. SVM: select C=1, kernel=\"rbf\"\n",
        "2. KNN: n_neighbors=5\n",
        "\n",
        "**Note: The training of the SVM model may take 4-5 mins; please be patient.**"
      ]
    },
    {
      "cell_type": "code",
      "execution_count": null,
      "id": "382ff35a",
      "metadata": {
        "colab": {
          "base_uri": "https://localhost:8080/"
        },
        "id": "382ff35a",
        "outputId": "4c52ebee-79ec-43c5-c5e3-a5ca40fb5933"
      },
      "outputs": [
        {
          "output_type": "stream",
          "name": "stdout",
          "text": [
            "SVM Training time: 295.94 seconds\n"
          ]
        }
      ],
      "source": [
        "# Train and Evaluate SVM on MNIST dataset\n",
        "from sklearn import svm\n",
        "from sklearn.svm import SVC\n",
        "# ------------ Add your code here ------------\n",
        "# train SVM and Print how long it takes to train SVM.\n",
        "\n",
        "# SVM\n",
        "start_time_svm = time.time()\n",
        "\n",
        "# Train SVM model\n",
        "svm_model = SVC(C=1, kernel='rbf')\n",
        "svm_model.fit(X_train, y_train)\n",
        "\n",
        "training_time_svm = time.time() - start_time_svm\n",
        "print(f\"SVM Training time: {training_time_svm:.2f} seconds\")\n"
      ]
    },
    {
      "cell_type": "code",
      "source": [
        "# evaluate SVM\n",
        "\n",
        "# Predict labels using SVM\n",
        "y_pred_svm = svm_model.predict(X_test)\n",
        "print(\"SVM Predicted labels:\", y_pred_svm)\n",
        "\n",
        "# Compute accuracy for each class using confusion matrix\n",
        "conf_matrix_svm = confusion_matrix(y_test, y_pred_svm)\n",
        "class_accuracy_svm = conf_matrix_svm.diagonal() / conf_matrix_svm.sum(axis=1)\n",
        "\n",
        "# Print accuracy for each class using SVM\n",
        "print(\"\\nSVM Accuracy for Each Class:\")\n",
        "for i in range(10):\n",
        "    print(f\"Accuracy for class {i}: {class_accuracy_svm[i]:.4f}\")\n",
        "\n"
      ],
      "metadata": {
        "colab": {
          "base_uri": "https://localhost:8080/"
        },
        "id": "7uIaTdj7ulEP",
        "outputId": "6b85ee77-a78e-443f-ac8b-f9e1a45ae7fc"
      },
      "id": "7uIaTdj7ulEP",
      "execution_count": null,
      "outputs": [
        {
          "output_type": "stream",
          "name": "stdout",
          "text": [
            "SVM Predicted labels: [7 2 1 ... 4 5 6]\n",
            "\n",
            "SVM Accuracy for Each Class:\n",
            "Accuracy for class 0: 0.9929\n",
            "Accuracy for class 1: 0.9921\n",
            "Accuracy for class 2: 0.9748\n",
            "Accuracy for class 3: 0.9851\n",
            "Accuracy for class 4: 0.9786\n",
            "Accuracy for class 5: 0.9765\n",
            "Accuracy for class 6: 0.9854\n",
            "Accuracy for class 7: 0.9689\n",
            "Accuracy for class 8: 0.9754\n",
            "Accuracy for class 9: 0.9613\n"
          ]
        }
      ]
    },
    {
      "cell_type": "code",
      "source": [
        "# Train and Evaluate KNN on MNIST dataset\n",
        "from sklearn.neighbors import KNeighborsClassifier\n",
        "\n",
        "# train KNN and Print how long it takes to train KNN.\n",
        "# ------------ Add your code here ------------\n",
        "\n",
        "# KNN\n",
        "start_time_knn = time.time()\n",
        "\n",
        "# Train KNN model\n",
        "knn_model = KNeighborsClassifier(n_neighbors=5)\n",
        "knn_model.fit(X_train, y_train)\n",
        "\n",
        "training_time_knn = time.time() - start_time_knn\n",
        "print(f\"KNN Training time: {training_time_knn:.2f} seconds\")\n"
      ],
      "metadata": {
        "colab": {
          "base_uri": "https://localhost:8080/"
        },
        "id": "lhJ5jCEetb6h",
        "outputId": "026c8d6e-1b4f-4156-c84c-c469a18cf90a"
      },
      "id": "lhJ5jCEetb6h",
      "execution_count": null,
      "outputs": [
        {
          "output_type": "stream",
          "name": "stdout",
          "text": [
            "KNN Training time: 0.01 seconds\n"
          ]
        }
      ]
    },
    {
      "cell_type": "code",
      "source": [
        " # evaluate KNN\n",
        "\n",
        "# Predict labels using KNN\n",
        "y_pred_knn = knn_model.predict(X_test)\n",
        "print(\"KNN Predicted labels:\", y_pred_knn)\n",
        "\n",
        "# Compute accuracy for each class using confusion matrix\n",
        "conf_matrix_knn = confusion_matrix(y_test, y_pred_knn)\n",
        "class_accuracy_knn = conf_matrix_knn.diagonal() / conf_matrix_knn.sum(axis=1)\n",
        "\n",
        "# Print accuracy for each class using KNN\n",
        "print(\"\\nKNN Accuracy for Each Class:\")\n",
        "for i in range(10):\n",
        "    print(f\"Accuracy for class {i}: {class_accuracy_knn[i]:.4f}\")"
      ],
      "metadata": {
        "colab": {
          "base_uri": "https://localhost:8080/"
        },
        "id": "_Tt99E0lusPN",
        "outputId": "d1929ddb-b8e4-4182-a81e-c2660eca8091"
      },
      "id": "_Tt99E0lusPN",
      "execution_count": null,
      "outputs": [
        {
          "output_type": "stream",
          "name": "stdout",
          "text": [
            "KNN Predicted labels: [7 2 1 ... 4 5 6]\n",
            "\n",
            "KNN Accuracy for Each Class:\n",
            "Accuracy for class 0: 0.9939\n",
            "Accuracy for class 1: 0.9982\n",
            "Accuracy for class 2: 0.9603\n",
            "Accuracy for class 3: 0.9663\n",
            "Accuracy for class 4: 0.9613\n",
            "Accuracy for class 5: 0.9664\n",
            "Accuracy for class 6: 0.9864\n",
            "Accuracy for class 7: 0.9611\n",
            "Accuracy for class 8: 0.9374\n",
            "Accuracy for class 9: 0.9534\n"
          ]
        }
      ]
    },
    {
      "cell_type": "markdown",
      "source": [
        "### Task 5: Compare LR, SVM and KNN in performance and Training Time. 10 points <a id = \"section5\"/>\n",
        "\n",
        "Question 1 (5 Points): Finish the Comparison Table in Using Markdown\n",
        "\n",
        "| Model | 0   | 1   | 2   | 3   | 4   | 5   | 6   | 7   | 8   | 9   | Train Time|\n",
        "|-------|-----|-----|-----|-----|-----|-----|-----|-----|-----|-----|-----|\n",
        "\n",
        "Question 2 (5 Points): Please write down your conclusion: which method is the best based on accuracy and training time."
      ],
      "metadata": {
        "id": "vkM9RgN00dQu"
      },
      "id": "vkM9RgN00dQu"
    },
    {
      "cell_type": "code",
      "source": [
        "# Assuming you have the accuracy and training time values from previous tasks\n",
        "# lr_accuracy, svm_accuracy, knn_accuracy, train_time_lr, train_time_svm, train_time_knn\n",
        "lr_accuracy = class_accuracy\n",
        "train_time_lr = training_time\n",
        "svm_accuracy = class_accuracy_svm\n",
        "train_time_svm = training_time_svm\n",
        "knn_accuracy = class_accuracy_knn\n",
        "train_time_knn = training_time_knn\n",
        "# Create the Markdown table header\n",
        "table_header = \"| Model | \" + \" | \".join(map(str, range(10))) + \" | Train Time |\\n\"\n",
        "table_line = \"|-------|-\" + \"-|-\".join([\"----\" for _ in range(12)]) + \"|\\n\"\n",
        "\n",
        "# Create the Markdown table rows with fixed decimal places and adjusted alignment\n",
        "lr_row = f\"| LR    | {' | '.join(map(lambda x: f'{x:.2f}', lr_accuracy))} | {train_time_lr:.2f} s   |\\n\"\n",
        "svm_row = f\"| SVM   | {' | '.join(map(lambda x: f'{x:.2f}', svm_accuracy))} | {train_time_svm:.2f} s   |\\n\"\n",
        "knn_row = f\"| KNN   | {' | '.join(map(lambda x: f'{x:.2f}', knn_accuracy))} | {train_time_knn:.2f} s     |\\n\"\n",
        "\n",
        "# Concatenate the Markdown table parts\n",
        "markdown_table = table_header + table_line + lr_row + svm_row + knn_row + table_line\n",
        "\n",
        "# Print or save the Markdown table\n",
        "print(markdown_table)\n",
        "\n",
        "# Answer for Question 2\n",
        "\n",
        "\"\"\"\n",
        "Conclusion\n",
        "Based on the accuracy and training time, we can draw the following conclusions:\n",
        "\n",
        "Accuracy: SVM and KNN generally perform better than LR across all classes. SVM\n",
        "and KNN have similar accuracy, with SVM slightly outperforming KNN in some classes.\n",
        "\n",
        "Training Time: LR has the shortest training time, while SVM has a significantly\n",
        "longer training time. KNN has a very short training time compared to SVM.\n",
        "\n",
        "Considering both accuracy and training time, the choice depends on the specific\n",
        "requirements of the application. If training time is a critical factor, LR or\n",
        "KNN might be preferred. If higher accuracy is crucial and training time is not a\n",
        " significant concern, SVM should be chosen.\n",
        "\n",
        "\"\"\""
      ],
      "metadata": {
        "id": "XjzVov-j0cuI",
        "colab": {
          "base_uri": "https://localhost:8080/",
          "height": 226
        },
        "outputId": "6a72a768-1d41-43b3-d113-129831c49166"
      },
      "id": "XjzVov-j0cuI",
      "execution_count": null,
      "outputs": [
        {
          "output_type": "stream",
          "name": "stdout",
          "text": [
            "| Model | 0 | 1 | 2 | 3 | 4 | 5 | 6 | 7 | 8 | 9 | Train Time |\n",
            "|-------|------|------|------|------|------|------|------|------|------|------|------|-----|\n",
            "| LR    | 0.98 | 0.98 | 0.88 | 0.91 | 0.93 | 0.86 | 0.95 | 0.92 | 0.87 | 0.88 | 128.23 s   |\n",
            "| SVM   | 0.99 | 0.99 | 0.97 | 0.99 | 0.98 | 0.98 | 0.99 | 0.97 | 0.98 | 0.96 | 295.94 s   |\n",
            "| KNN   | 0.99 | 1.00 | 0.96 | 0.97 | 0.96 | 0.97 | 0.99 | 0.96 | 0.94 | 0.95 | 0.01 s     |\n",
            "|-------|------|------|------|------|------|------|------|------|------|------|------|-----|\n",
            "\n"
          ]
        },
        {
          "output_type": "execute_result",
          "data": {
            "text/plain": [
              "'\\nConclusion\\nBased on the accuracy and training time, we can draw the following conclusions:\\n\\nAccuracy: SVM and KNN generally perform better than LR across all classes. SVM \\nand KNN have similar accuracy, with SVM slightly outperforming KNN in some classes.\\n\\nTraining Time: LR has the shortest training time, while SVM has a significantly \\nlonger training time. KNN has a very short training time compared to SVM.\\n\\nConsidering both accuracy and training time, the choice depends on the specific \\nrequirements of the application. If training time is a critical factor, LR or \\nKNN might be preferred. If higher accuracy is crucial and training time is not a\\n significant concern, SVM should be chosen.\\n\\n'"
            ],
            "application/vnd.google.colaboratory.intrinsic+json": {
              "type": "string"
            }
          },
          "metadata": {},
          "execution_count": 24
        }
      ]
    }
  ],
  "metadata": {
    "kernelspec": {
      "display_name": "Python 3 (ipykernel)",
      "language": "python",
      "name": "python3"
    },
    "language_info": {
      "codemirror_mode": {
        "name": "ipython",
        "version": 3
      },
      "file_extension": ".py",
      "mimetype": "text/x-python",
      "name": "python",
      "nbconvert_exporter": "python",
      "pygments_lexer": "ipython3",
      "version": "3.9.12"
    },
    "colab": {
      "provenance": []
    }
  },
  "nbformat": 4,
  "nbformat_minor": 5
}